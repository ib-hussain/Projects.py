{
 "cells": [
  {
   "cell_type": "code",
   "execution_count": null,
   "metadata": {
    "colab": {
     "background_save": true
    },
    "id": "dLscptmVrQRP"
   },
   "outputs": [],
   "source": [
    "import tensorflow as tf\n",
    "\n",
    "stringi = tf.Variable(\"this is a srring\", tf.string)\n",
    "number = tf.Variable(324, tf.int16)\n",
    "floating = tf.Variable(3.5689, tf.float64)\n",
    "\n",
    "rank3_tensor = tf.Variable([[[\"hello\", \"ad hi\"]], [[\"hello\", \"ad hi\"]]])\n",
    "# tf.rank(rank3_tensor)\n",
    "# rank3_tensor.shape\n",
    "\n",
    "tensor1 = tf.ones([2, 3])\n",
    "tensor2 = tf.reshape(tensor1, [3, 2])\n",
    "tensor3 = tf.transpose(tensor2)\n",
    "print(tensor3)"
   ]
  },
  {
   "cell_type": "code",
   "execution_count": null,
   "metadata": {
    "id": "gYNzP9XsDHaG"
   },
   "outputs": [
    {
     "ename": "",
     "evalue": "",
     "output_type": "error",
     "traceback": [
      "\u001b[1;31mRunning cells with 'Python 3.12.7' requires the ipykernel package.\n",
      "\u001b[1;31mRun the following command to install 'ipykernel' into the Python environment. \n",
      "\u001b[1;31mCommand: 'c:/Users/Ibrahim/AppData/Local/Programs/Python/Python312/python.exe -m pip install ipykernel -U --user --force-reinstall'"
     ]
    }
   ],
   "source": [
    "import tensorflow as tf\n",
    "import numpy as np\n",
    "from __future__ import absolute_import, division, print_function\n",
    "from IPython.display import clear_output\n",
    "import matplotlib.pyplot as plt\n",
    "import pandas as pd\n",
    "import tensorflow.compat.v2.feature_column as fc\n",
    "from six.moves import urllib\n",
    "\n",
    "dftrain =pd.read_csv(\"https://storage.googleapis.com/tf-datasets/titanic/train.csv\")\n",
    "dfeval = pd.read_csv(\"https://storage.googleapis.com/tf-datasets/titanic/eval.csv\")\n",
    "y_train = dftrain.pop('survived')\n",
    "y_eval = dfeval.pop('survived')\n",
    "\n",
    "# dftain.head()\n",
    "# dftrain.shape\n",
    "# dftrain.descibe()\n",
    "# y_train.head()\n",
    "# dftrain.age.hist(bins=20)\n",
    "# dftrain.sex.value_counts().plot(kind='barh')\n",
    "# dftrain['class'].value_counts().plot(kind='barh')\n",
    "\n",
    "pd.concat([dftrain, y_train], axis =1).groupby('sex').survived.mean().plot(kind='barh').set_xlabel('% survive')\n",
    "\n",
    "CATEGORICAL_COLUMNS = ['sex', 'n_siblings_spouses', 'parch', 'class', 'deck',\n",
    "                       'embark_town', 'alone']\n",
    "NUMERIC_COLUMNS = ['age', 'fare']\n",
    "feature_column = []\n",
    "for feature_name in CATEGORICAL_COLUMNS:\n",
    "  vocabulary = dftrain[feature_name].unique() # unique values will be stored in vocabulary\n",
    "  feature_column.append(tf.feature_column.categorical_column_with_vocabulary_list(feature_name, vocabulary))\n",
    "\n",
    "for feature_name in NUMERIC_COLUMNS:\n",
    "  feature_column.append(tf.feature_column.numeric_column(feature_name, dtype=tf.float32))\n",
    "print(feature_column)"
   ]
  },
  {
   "cell_type": "code",
   "execution_count": null,
   "metadata": {
    "colab": {
     "base_uri": "https://localhost:8080/"
    },
    "id": "9dPxjSc6qRD-",
    "outputId": "91b8b32b-147c-4c7a-dc0b-254b196a435d"
   },
   "outputs": [],
   "source": [
    "import tensorflow_probability as tfp\n",
    "import tensorflow as tf\n",
    "\n",
    "tfd = tfp.distributions\n",
    "initial_distribution = tfd.Categorical(probs=[0.8, 0.2])\n",
    "transition_distributin = tfd.Categorical(probs=[[0.7, 0.3], [0.2, 0.8]])\n",
    "observation_distribution = tfd.Normal(loc = [0., 15.], scale = [5., 10.])\n",
    "model = tfd.HiddenMarkovModel(initial_distribution = initial_distribution,\n",
    "                              transition_distribution = transition_distributin,\n",
    "                              observation_distribution = observation_distribution,\n",
    "                              num_steps = 7)\n",
    "mean = model.mean()\n",
    "with tf.compat.v1.Session() as sess:\n",
    "  print(mean.numpy())"
   ]
  },
  {
   "cell_type": "code",
   "execution_count": null,
   "metadata": {
    "id": "fePFnr4o-YcF"
   },
   "outputs": [],
   "source": [
    "from __future__ import absolute_import, division, print_function, unicode_literals\n",
    "import tensorflow as tf\n",
    "import tensorflow_datasets as tfds\n",
    "import pandas as pd\n",
    "CSV_COLUMN_NAMES = ['SepalLength', 'SepalWidth', 'PetalLength', 'PetalWidth', 'Species']\n",
    "SPECIES = ['Setosa', 'Versicolor', 'Virginica']\n",
    "train_path = tf.keras.utils.get_file(\"iris_training.csv\", \"https://storage.googleapis.com/download.tensorflow.org/data/iris_training.csv\")\n",
    "test_path = tf.keras.utils.get_file(\"iris_test.csv\", \"https://storage.googleapis.com/download.tensorflow.org/data/iris_test.csv\")\n",
    "train = pd.read_csv(train_path, names=CSV_COLUMN_NAMES, header=0)\n",
    "test = pd.read_csv(test_path, names=CSV_COLUMN_NAMES, header=0)\n",
    "# train.head()\n",
    "# train.tail()\n",
    "train_y = train.pop('Species')\n",
    "test_y = test.pop('Species')\n",
    "# train.shape\n",
    "def input_fn(features, labels, training=True, batch_size=256):\n",
    "  dataset = tf.data.Dataset.from_tensor_slices((dict(features), labels))\n",
    "  if training:\n",
    "    dataset = dataset.shuffle(1000).repeat()\n",
    "  return dataset.batch(batch_size)\n",
    "\n",
    "my_feature_columns = []\n",
    "for key in train.keys():\n",
    "  my_feature_columns.append(tf.feature_column.numeric_column(key=key))\n",
    "print(my_feature_columns)\n",
    "\n",
    "classifier = tf.estimator.DNNClassifier(feature_columns=my_feature_columns, hidden_units=[30, 10], n_classes=3)\n",
    "classifier.train(input_fn=lambda: input_fn(train, train_y, training=True), steps=5000)\n",
    "eval_results = classifier.evaluate(input_fn=lambda: input_fn(test, test_y, training=False))\n",
    "print('\\nTest set Accuracy: {accuracy:0.3f}\\n'.format(**eval_results))\n"
   ]
  }
 ],
 "metadata": {
  "colab": {
   "provenance": []
  },
  "kernelspec": {
   "display_name": "myenv",
   "language": "python",
   "name": "python3"
  },
  "language_info": {
   "codemirror_mode": {
    "name": "ipython",
    "version": 3
   },
   "file_extension": ".py",
   "mimetype": "text/x-python",
   "name": "python",
   "nbconvert_exporter": "python",
   "pygments_lexer": "ipython3",
   "version": "3.12.7"
  }
 },
 "nbformat": 4,
 "nbformat_minor": 0
}
