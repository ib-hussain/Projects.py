{
  "cells": [
    {
      "cell_type": "markdown",
      "metadata": {
        "id": "MxtLPFbmRafw"
      },
      "source": [
        "**Setup:**"
      ]
    },
    {
      "cell_type": "code",
      "execution_count": null,
      "metadata": {
        "id": "At5LaVTGPuKn"
      },
      "outputs": [],
      "source": [
        "import pandas as pd\n",
        "import numpy as np\n",
        "import matplotlib.pyplot as plt\n",
        "import seaborn as sns\n",
        "from statsmodels.tsa.arima.model import ARIMA\n",
        "from sklearn.linear_model import Ridge, Lasso, ElasticNet\n",
        "from sklearn.model_selection import train_test_split, GridSearchCV, cross_val_score\n",
        "from sklearn.metrics import mean_squared_error\n",
        "import warnings\n",
        "warnings.filterwarnings('ignore')\n",
        "\n",
        "data = pd.read_csv('data/Inflation_Dataset_v1.csv')\n",
        "# data.columns = [col.strip() for col in data.columns]# Clean column names\n",
        "data = data.rename(columns={# rename columns\n",
        "    'Inflation, consumer prices (annual %) [FP.CPI.TOTL.ZG]': 'Inflation',\n",
        "    'Broad money growth (annual %) [FM.LBL.BMNY.ZG]': 'Broad_Money_Growth',\n",
        "    'Crude oil, Brent %': 'Crude_Oil_Brent',\n",
        "    'Food imports (% of merchandise imports) ': 'Food_Imports_Pct',\n",
        "    'OBS_VALUE(REER)': 'REER'\n",
        "})\n",
        "data_clean = data.dropna()"
      ]
    },
    {
      "cell_type": "markdown",
      "metadata": {
        "id": "YNTYHjYOTnBR"
      },
      "source": [
        "*Using* Inflation as dependent variable and other economic variables as predictors. This fits the context as inflation is often influenced by these other factors."
      ]
    },
    {
      "cell_type": "code",
      "execution_count": 51,
      "metadata": {
        "id": "P_wXhisTTydn"
      },
      "outputs": [],
      "source": [
        "# Convert years to numeric if they're not already\n",
        "data_clean['Time'] = pd.to_numeric(data_clean['Time'])\n",
        "\n",
        "X = data_clean[['Broad_Money_Growth', 'Crude_Oil_Brent', 'NEER', 'Food_Imports_Pct', 'REER']].values\n",
        "y = data_clean['Inflation'].values\n",
        "np.random.seed(42)\n",
        "X_train, X_test, y_train, y_test, train_indices, test_indices = train_test_split(\n",
        "    X, y, range(len(data_clean)), test_size=0.3, random_state=42\n",
        ")\n",
        "\n",
        "time_train = data_clean['Time'].iloc[train_indices].values\n",
        "time_test = data_clean['Time'].iloc[test_indices].values"
      ]
    },
    {
      "cell_type": "markdown",
      "metadata": {
        "id": "Ofr8Ny9YLKKb"
      },
      "source": [
        "# Arima Model:"
      ]
    },
    {
      "cell_type": "code",
      "execution_count": 9,
      "metadata": {
        "colab": {
          "base_uri": "https://localhost:8080/"
        },
        "id": "lYrWz7EtKSUp",
        "outputId": "c624aeaf-3588-4afe-8ede-b157ad96183c"
      },
      "outputs": [
        {
          "name": "stdout",
          "output_type": "stream",
          "text": [
            "Finding best ARIMA parameters...\n",
            "New best ARIMA(0,0,0) with AIC: 216.6272157806872\n",
            "New best ARIMA(0,0,1) with AIC: 204.09573974238393\n",
            "New best ARIMA(0,0,2) with AIC: 201.8444090108414\n",
            "New best ARIMA(0,1,0) with AIC: 190.02874588247442\n",
            "Best ARIMA order: (0, 1, 0)\n"
          ]
        }
      ],
      "source": [
        "\n",
        "# 1. ARIMA MODEL\n",
        "#---------------\n",
        "# Convert to pandas Series for ARIMA modeling\n",
        "inflation_series = pd.Series(data_clean['Inflation'].values, index=data_clean['Time'])\n",
        "\n",
        "# Function to find best ARIMA parameters\n",
        "def find_best_arima_params(series):\n",
        "    best_aic = float('inf')\n",
        "    best_params = None\n",
        "\n",
        "    # Grid search for p, d, q values (limited range for simplicity)\n",
        "    for p in range(0, 3):\n",
        "        for d in range(0, 2):\n",
        "            for q in range(0, 3):\n",
        "                try:\n",
        "                    model = ARIMA(series, order=(p, d, q))\n",
        "                    results = model.fit()\n",
        "                    if results.aic < best_aic:\n",
        "                        best_aic = results.aic\n",
        "                        best_params = (p, d, q)\n",
        "                        print(f\"New best ARIMA({p},{d},{q}) with AIC: {best_aic}\")\n",
        "                except:\n",
        "                    continue\n",
        "\n",
        "    return best_params\n",
        "\n",
        "# Find the best ARIMA parameters\n",
        "print(\"Finding best ARIMA parameters...\")\n",
        "best_order = find_best_arima_params(inflation_series)\n",
        "print(f\"Best ARIMA order: {best_order}\")"
      ]
    },
    {
      "cell_type": "code",
      "execution_count": 10,
      "metadata": {
        "colab": {
          "base_uri": "https://localhost:8080/"
        },
        "id": "dLiFraWGKvI5",
        "outputId": "e802a55e-65a4-4999-8f10-8ea7246dbdb3"
      },
      "outputs": [
        {
          "name": "stdout",
          "output_type": "stream",
          "text": [
            "                               SARIMAX Results                                \n",
            "==============================================================================\n",
            "Dep. Variable:                      y   No. Observations:                   34\n",
            "Model:                 ARIMA(0, 1, 0)   Log Likelihood                 -94.014\n",
            "Date:                Sun, 04 May 2025   AIC                            190.029\n",
            "Time:                        17:24:09   BIC                            191.525\n",
            "Sample:                             0   HQIC                           190.532\n",
            "                                 - 34                                         \n",
            "Covariance Type:                  opg                                         \n",
            "==============================================================================\n",
            "                 coef    std err          z      P>|z|      [0.025      0.975]\n",
            "------------------------------------------------------------------------------\n",
            "sigma2        17.4608      2.841      6.147      0.000      11.893      23.029\n",
            "===================================================================================\n",
            "Ljung-Box (L1) (Q):                   0.11   Jarque-Bera (JB):                13.89\n",
            "Prob(Q):                              0.74   Prob(JB):                         0.00\n",
            "Heteroskedasticity (H):               5.12   Skew:                             1.29\n",
            "Prob(H) (two-sided):                  0.01   Kurtosis:                         4.86\n",
            "===================================================================================\n",
            "\n",
            "Warnings:\n",
            "[1] Covariance matrix calculated using the outer product of gradients (complex-step).\n"
          ]
        }
      ],
      "source": [
        "# Fit ARIMA model with the best parameters\n",
        "arima_model = ARIMA(inflation_series, order=best_order)\n",
        "arima_results = arima_model.fit()\n",
        "print(arima_results.summary())"
      ]
    },
    {
      "cell_type": "code",
      "execution_count": 11,
      "metadata": {
        "colab": {
          "base_uri": "https://localhost:8080/"
        },
        "id": "F2T0zROuL7Mo",
        "outputId": "422ab973-7184-41eb-aa0d-c77941385c26"
      },
      "outputs": [
        {
          "data": {
            "text/plain": [
              "(<statsmodels.tsa.arima.model.ARIMA at 0x7a44bf783610>,\n",
              " <statsmodels.tsa.arima.model.ARIMAResultsWrapper at 0x7a44d7aff2d0>)"
            ]
          },
          "execution_count": 11,
          "metadata": {},
          "output_type": "execute_result"
        }
      ],
      "source": [
        "# Create a model for forecasting test period\n",
        "# We need to fit a model on the training data only\n",
        "train_series = pd.Series(y_train, index=time_train)\n",
        "arima_train_model = ARIMA(train_series, order=best_order)\n",
        "arima_train_results = arima_train_model.fit()\n",
        "arima_train_model, arima_train_results"
      ]
    },
    {
      "cell_type": "code",
      "execution_count": 12,
      "metadata": {
        "colab": {
          "base_uri": "https://localhost:8080/",
          "height": 429
        },
        "id": "He3NqBXhLz0j",
        "outputId": "88d1dd8b-7a1f-417d-8f9d-76123c91161d"
      },
      "outputs": [
        {
          "data": {
            "text/html": [
              "<div>\n",
              "<style scoped>\n",
              "    .dataframe tbody tr th:only-of-type {\n",
              "        vertical-align: middle;\n",
              "    }\n",
              "\n",
              "    .dataframe tbody tr th {\n",
              "        vertical-align: top;\n",
              "    }\n",
              "\n",
              "    .dataframe thead th {\n",
              "        text-align: right;\n",
              "    }\n",
              "</style>\n",
              "<table border=\"1\" class=\"dataframe\">\n",
              "  <thead>\n",
              "    <tr style=\"text-align: right;\">\n",
              "      <th></th>\n",
              "      <th>predicted_mean</th>\n",
              "    </tr>\n",
              "  </thead>\n",
              "  <tbody>\n",
              "    <tr>\n",
              "      <th>23</th>\n",
              "      <td>5.078057</td>\n",
              "    </tr>\n",
              "    <tr>\n",
              "      <th>24</th>\n",
              "      <td>5.078057</td>\n",
              "    </tr>\n",
              "    <tr>\n",
              "      <th>25</th>\n",
              "      <td>5.078057</td>\n",
              "    </tr>\n",
              "    <tr>\n",
              "      <th>26</th>\n",
              "      <td>5.078057</td>\n",
              "    </tr>\n",
              "    <tr>\n",
              "      <th>27</th>\n",
              "      <td>5.078057</td>\n",
              "    </tr>\n",
              "    <tr>\n",
              "      <th>28</th>\n",
              "      <td>5.078057</td>\n",
              "    </tr>\n",
              "    <tr>\n",
              "      <th>29</th>\n",
              "      <td>5.078057</td>\n",
              "    </tr>\n",
              "    <tr>\n",
              "      <th>30</th>\n",
              "      <td>5.078057</td>\n",
              "    </tr>\n",
              "    <tr>\n",
              "      <th>31</th>\n",
              "      <td>5.078057</td>\n",
              "    </tr>\n",
              "    <tr>\n",
              "      <th>32</th>\n",
              "      <td>5.078057</td>\n",
              "    </tr>\n",
              "    <tr>\n",
              "      <th>33</th>\n",
              "      <td>5.078057</td>\n",
              "    </tr>\n",
              "  </tbody>\n",
              "</table>\n",
              "</div><br><label><b>dtype:</b> float64</label>"
            ],
            "text/plain": [
              "23    5.078057\n",
              "24    5.078057\n",
              "25    5.078057\n",
              "26    5.078057\n",
              "27    5.078057\n",
              "28    5.078057\n",
              "29    5.078057\n",
              "30    5.078057\n",
              "31    5.078057\n",
              "32    5.078057\n",
              "33    5.078057\n",
              "Name: predicted_mean, dtype: float64"
            ]
          },
          "execution_count": 12,
          "metadata": {},
          "output_type": "execute_result"
        }
      ],
      "source": [
        "# Generate forecasts for the test period\n",
        "arima_predictions = arima_train_results.forecast(steps=len(y_test))\n",
        "arima_predictions"
      ]
    },
    {
      "cell_type": "code",
      "execution_count": 13,
      "metadata": {
        "colab": {
          "base_uri": "https://localhost:8080/"
        },
        "id": "b9na20BpMBAo",
        "outputId": "0fdf7bbd-bcc1-4fa2-a08f-1713e063a9de"
      },
      "outputs": [
        {
          "name": "stdout",
          "output_type": "stream",
          "text": [
            "ARIMA Model MSE: 37.6836\n"
          ]
        }
      ],
      "source": [
        "# Calculate MSE for ARIMA\n",
        "arima_mse = mean_squared_error(y_test, arima_predictions)\n",
        "print(f\"ARIMA Model MSE: {arima_mse:.4f}\")"
      ]
    },
    {
      "cell_type": "markdown",
      "metadata": {
        "id": "QbXUSaCOMNfI"
      },
      "source": [
        "# Rigde Regression:"
      ]
    },
    {
      "cell_type": "code",
      "execution_count": 14,
      "metadata": {
        "colab": {
          "base_uri": "https://localhost:8080/"
        },
        "id": "o62Vo3uHMRjw",
        "outputId": "135873db-b5ef-4034-a3b8-26c59cbe2f77"
      },
      "outputs": [
        {
          "name": "stdout",
          "output_type": "stream",
          "text": [
            "Best alpha for Ridge regression: 1000.0000\n"
          ]
        }
      ],
      "source": [
        "# 2. RIDGE REGRESSION\n",
        "#-------------------\n",
        "# Find optimal alpha using cross-validation\n",
        "np.random.seed(123)\n",
        "ridge_cv = GridSearchCV(\n",
        "    Ridge(),\n",
        "    {'alpha': np.logspace(-3, 3, 100)},\n",
        "    cv=5,\n",
        "    scoring='neg_mean_squared_error'\n",
        ")\n",
        "ridge_cv.fit(X_train, y_train)\n",
        "best_alpha_ridge = ridge_cv.best_params_['alpha']\n",
        "print(f\"Best alpha for Ridge regression: {best_alpha_ridge:.4f}\")"
      ]
    },
    {
      "cell_type": "code",
      "execution_count": 15,
      "metadata": {
        "colab": {
          "base_uri": "https://localhost:8080/"
        },
        "id": "0klSLYxsMXUI",
        "outputId": "48fdc78b-7090-4f8b-e4d1-253df7dc9700"
      },
      "outputs": [
        {
          "name": "stdout",
          "output_type": "stream",
          "text": [
            "Ridge Regression Coefficients:\n",
            "Broad_Money_Growth    0.000937\n",
            "Crude_Oil_Brent       0.077461\n",
            "NEER                  0.011392\n",
            "Food_Imports_Pct      0.136155\n",
            "REER                 -0.024961\n",
            "dtype: float64\n"
          ]
        }
      ],
      "source": [
        "# Fit Ridge model with optimal alpha\n",
        "ridge_model = Ridge(alpha=best_alpha_ridge)\n",
        "ridge_model.fit(X_train, y_train)\n",
        "print(\"Ridge Regression Coefficients:\")\n",
        "print(pd.Series(ridge_model.coef_, index=['Broad_Money_Growth', 'Crude_Oil_Brent', 'NEER', 'Food_Imports_Pct', 'REER']))"
      ]
    },
    {
      "cell_type": "code",
      "execution_count": 16,
      "metadata": {
        "colab": {
          "base_uri": "https://localhost:8080/"
        },
        "id": "FQJX9n5iMdah",
        "outputId": "329b19cc-db37-4c6b-e178-071f249a4bb4"
      },
      "outputs": [
        {
          "data": {
            "text/plain": [
              "array([ 9.90152615, 10.19066437,  8.88594719,  8.23666369,  8.6732496 ,\n",
              "       12.59920824, 13.80167613,  8.08622914, 12.63379089,  8.30503215,\n",
              "        9.19327444])"
            ]
          },
          "execution_count": 16,
          "metadata": {},
          "output_type": "execute_result"
        }
      ],
      "source": [
        "# Make predictions on test set\n",
        "ridge_predictions = ridge_model.predict(X_test)\n",
        "ridge_predictions"
      ]
    },
    {
      "cell_type": "code",
      "execution_count": 17,
      "metadata": {
        "colab": {
          "base_uri": "https://localhost:8080/"
        },
        "id": "l5X3qPRFMrIQ",
        "outputId": "e7640e21-5c96-43de-ede5-f33ee74e8181"
      },
      "outputs": [
        {
          "name": "stdout",
          "output_type": "stream",
          "text": [
            "Ridge Model MSE: 16.2504\n"
          ]
        }
      ],
      "source": [
        "# Calculate MSE for Ridge\n",
        "ridge_mse = mean_squared_error(y_test, ridge_predictions)\n",
        "print(f\"Ridge Model MSE: {ridge_mse:.4f}\")"
      ]
    },
    {
      "cell_type": "markdown",
      "metadata": {
        "id": "8Ulge5gIMvIK"
      },
      "source": [
        "# LASSO Regression:"
      ]
    },
    {
      "cell_type": "code",
      "execution_count": 18,
      "metadata": {
        "colab": {
          "base_uri": "https://localhost:8080/"
        },
        "id": "Poq1dScdM2Lg",
        "outputId": "302a6cc9-9e66-4540-8751-897531f27827"
      },
      "outputs": [
        {
          "name": "stdout",
          "output_type": "stream",
          "text": [
            "Best alpha for LASSO regression: 20.0923\n"
          ]
        }
      ],
      "source": [
        "# 3. LASSO REGRESSION\n",
        "#-------------------\n",
        "# Find optimal alpha for LASSO\n",
        "np.random.seed(42)\n",
        "lasso_cv = GridSearchCV(\n",
        "    Lasso(),\n",
        "    {'alpha': np.logspace(-3, 3, 100)},\n",
        "    cv=5,\n",
        "    scoring='neg_mean_squared_error'\n",
        ")\n",
        "lasso_cv.fit(X_train, y_train)\n",
        "best_alpha_lasso = lasso_cv.best_params_['alpha']\n",
        "print(f\"Best alpha for LASSO regression: {best_alpha_lasso:.4f}\")"
      ]
    },
    {
      "cell_type": "code",
      "execution_count": 19,
      "metadata": {
        "colab": {
          "base_uri": "https://localhost:8080/"
        },
        "id": "MShVRgOcM7WY",
        "outputId": "854c6170-f3d0-4724-aaf0-cbbd0c542196"
      },
      "outputs": [
        {
          "name": "stdout",
          "output_type": "stream",
          "text": [
            "LASSO Regression Coefficients:\n",
            "Broad_Money_Growth    0.000000\n",
            "Crude_Oil_Brent       0.032103\n",
            "NEER                 -0.000000\n",
            "Food_Imports_Pct      0.000000\n",
            "REER                 -0.000000\n",
            "dtype: float64\n"
          ]
        }
      ],
      "source": [
        "# Fit LASSO model with optimal alpha\n",
        "lasso_model = Lasso(alpha=best_alpha_lasso)\n",
        "lasso_model.fit(X_train, y_train)\n",
        "print(\"LASSO Regression Coefficients:\")\n",
        "print(pd.Series(lasso_model.coef_, index=['Broad_Money_Growth', 'Crude_Oil_Brent', 'NEER', 'Food_Imports_Pct', 'REER']))"
      ]
    },
    {
      "cell_type": "code",
      "execution_count": 20,
      "metadata": {
        "colab": {
          "base_uri": "https://localhost:8080/"
        },
        "id": "xis20gq4M_og",
        "outputId": "d9457f98-114f-4321-886c-d0bd0bfcad97"
      },
      "outputs": [
        {
          "name": "stdout",
          "output_type": "stream",
          "text": [
            "LASSO Regression Coefficients:\n",
            "Broad_Money_Growth    0.000000\n",
            "Crude_Oil_Brent       0.032103\n",
            "NEER                 -0.000000\n",
            "Food_Imports_Pct      0.000000\n",
            "REER                 -0.000000\n",
            "dtype: float64\n"
          ]
        }
      ],
      "source": [
        "# Fit LASSO model with optimal alpha\n",
        "lasso_model = Lasso(alpha=best_alpha_lasso)\n",
        "lasso_model.fit(X_train, y_train)\n",
        "print(\"LASSO Regression Coefficients:\")\n",
        "print(pd.Series(lasso_model.coef_, index=['Broad_Money_Growth', 'Crude_Oil_Brent', 'NEER', 'Food_Imports_Pct', 'REER']))"
      ]
    },
    {
      "cell_type": "code",
      "execution_count": 21,
      "metadata": {
        "colab": {
          "base_uri": "https://localhost:8080/"
        },
        "id": "22K9DLZZNCi9",
        "outputId": "d4b0aab7-f2af-4fbb-fc86-8ba44c6c668d"
      },
      "outputs": [
        {
          "data": {
            "text/plain": [
              "array([10.08325747, 10.32178194, 10.08197335,  9.75002947,  8.94874133,\n",
              "       11.51215711, 11.89739179,  9.11984973, 11.54040765,  8.74424592,\n",
              "        8.92081181])"
            ]
          },
          "execution_count": 21,
          "metadata": {},
          "output_type": "execute_result"
        }
      ],
      "source": [
        "# Make predictions on test set\n",
        "lasso_predictions = lasso_model.predict(X_test)\n",
        "lasso_predictions"
      ]
    },
    {
      "cell_type": "code",
      "execution_count": 22,
      "metadata": {
        "colab": {
          "base_uri": "https://localhost:8080/"
        },
        "id": "B0wsl_tDNFJI",
        "outputId": "cb108973-ba05-4555-fea2-f6054d4c4fcd"
      },
      "outputs": [
        {
          "name": "stdout",
          "output_type": "stream",
          "text": [
            "LASSO Model MSE: 20.0958\n"
          ]
        }
      ],
      "source": [
        "# Calculate MSE for LASSO\n",
        "lasso_mse = mean_squared_error(y_test, lasso_predictions)\n",
        "print(f\"LASSO Model MSE: {lasso_mse:.4f}\")"
      ]
    },
    {
      "cell_type": "markdown",
      "metadata": {
        "id": "knoYd5FYNJ5q"
      },
      "source": [
        "# Elastic Net Regression:"
      ]
    },
    {
      "cell_type": "code",
      "execution_count": 23,
      "metadata": {
        "colab": {
          "base_uri": "https://localhost:8080/"
        },
        "id": "yOIaKmKbNNdI",
        "outputId": "b4d25679-a8a2-4d52-f1a2-e5a33e1cddb8"
      },
      "outputs": [
        {
          "name": "stdout",
          "output_type": "stream",
          "text": [
            "Best alpha for Elastic Net: 26.3665\n",
            "Best L1_ratio for Elastic Net: 0.7000\n"
          ]
        }
      ],
      "source": [
        "# 4. ELASTIC NET REGRESSION\n",
        "#-------------------------\n",
        "# Find optimal alpha and l1_ratio using grid search\n",
        "np.random.seed(123)\n",
        "param_grid = {\n",
        "    'alpha': np.logspace(-3, 3, 20),\n",
        "    'l1_ratio': np.arange(0.1, 1.0, 0.1)\n",
        "}\n",
        "\n",
        "elastic_net_cv = GridSearchCV(\n",
        "    ElasticNet(),\n",
        "    param_grid,\n",
        "    cv=5,\n",
        "    scoring='neg_mean_squared_error'\n",
        ")\n",
        "elastic_net_cv.fit(X_train, y_train)\n",
        "best_alpha_elastic_net = elastic_net_cv.best_params_['alpha']\n",
        "best_l1_ratio = elastic_net_cv.best_params_['l1_ratio']\n",
        "\n",
        "print(f\"Best alpha for Elastic Net: {best_alpha_elastic_net:.4f}\")\n",
        "print(f\"Best L1_ratio for Elastic Net: {best_l1_ratio:.4f}\")"
      ]
    },
    {
      "cell_type": "code",
      "execution_count": 24,
      "metadata": {
        "colab": {
          "base_uri": "https://localhost:8080/"
        },
        "id": "cRDtoWfZNVL4",
        "outputId": "769866f8-776b-472d-ce9a-e0574adaf35b"
      },
      "outputs": [
        {
          "name": "stdout",
          "output_type": "stream",
          "text": [
            "Elastic Net Regression Coefficients:\n",
            "Broad_Money_Growth    0.000000\n",
            "Crude_Oil_Brent       0.033519\n",
            "NEER                 -0.000000\n",
            "Food_Imports_Pct      0.000000\n",
            "REER                 -0.000000\n",
            "dtype: float64\n"
          ]
        }
      ],
      "source": [
        "# Fit Elastic Net model with optimal parameters\n",
        "elastic_net_model = ElasticNet(alpha=best_alpha_elastic_net, l1_ratio=best_l1_ratio)\n",
        "elastic_net_model.fit(X_train, y_train)\n",
        "print(\"Elastic Net Regression Coefficients:\")\n",
        "print(pd.Series(elastic_net_model.coef_, index=['Broad_Money_Growth', 'Crude_Oil_Brent', 'NEER', 'Food_Imports_Pct', 'REER']))"
      ]
    },
    {
      "cell_type": "code",
      "execution_count": 25,
      "metadata": {
        "colab": {
          "base_uri": "https://localhost:8080/"
        },
        "id": "IfXcn0_nNaAR",
        "outputId": "1ad63e00-c5ab-4e27-979a-a0b57f1ad07c"
      },
      "outputs": [
        {
          "data": {
            "text/plain": [
              "array([10.08891363, 10.33795815, 10.08757288,  9.74098872,  8.90436002,\n",
              "       11.58083443, 11.98305976,  9.08301511, 11.61033095,  8.69084541,\n",
              "        8.87519869])"
            ]
          },
          "execution_count": 25,
          "metadata": {},
          "output_type": "execute_result"
        }
      ],
      "source": [
        "# Make predictions on test set\n",
        "elastic_net_predictions = elastic_net_model.predict(X_test)\n",
        "elastic_net_predictions"
      ]
    },
    {
      "cell_type": "code",
      "execution_count": 26,
      "metadata": {
        "colab": {
          "base_uri": "https://localhost:8080/"
        },
        "id": "rRev-KenNcR4",
        "outputId": "435bf8df-49af-4317-81ee-760d36cb0c85"
      },
      "outputs": [
        {
          "name": "stdout",
          "output_type": "stream",
          "text": [
            "Elastic Net Model MSE: 19.9796\n"
          ]
        }
      ],
      "source": [
        "# Calculate MSE for Elastic Net\n",
        "elastic_net_mse = mean_squared_error(y_test, elastic_net_predictions)\n",
        "print(f\"Elastic Net Model MSE: {elastic_net_mse:.4f}\")"
      ]
    },
    {
      "cell_type": "markdown",
      "metadata": {
        "id": "bbTGnUh6Ng2T"
      },
      "source": [
        "# Variable Sinificance Checking:"
      ]
    },
    {
      "cell_type": "code",
      "execution_count": 27,
      "metadata": {
        "colab": {
          "base_uri": "https://localhost:8080/"
        },
        "id": "EzaLMkieNl0w",
        "outputId": "2689aca6-2560-43ec-e586-ab6336d1f450"
      },
      "outputs": [
        {
          "name": "stdout",
          "output_type": "stream",
          "text": [
            "                            OLS Regression Results                            \n",
            "==============================================================================\n",
            "Dep. Variable:                      y   R-squared:                       0.444\n",
            "Model:                            OLS   Adj. R-squared:                  0.345\n",
            "Method:                 Least Squares   F-statistic:                     4.470\n",
            "Date:                Sun, 04 May 2025   Prob (F-statistic):            0.00405\n",
            "Time:                        17:25:02   Log-Likelihood:                -96.338\n",
            "No. Observations:                  34   AIC:                             204.7\n",
            "Df Residuals:                      28   BIC:                             213.8\n",
            "Df Model:                           5                                         \n",
            "Covariance Type:            nonrobust                                         \n",
            "==============================================================================\n",
            "                 coef    std err          t      P>|t|      [0.025      0.975]\n",
            "------------------------------------------------------------------------------\n",
            "const          1.6978     13.248      0.128      0.899     -25.439      28.834\n",
            "x1             0.1096      0.123      0.889      0.381      -0.143       0.362\n",
            "x2             0.1427      0.040      3.550      0.001       0.060       0.225\n",
            "x3             0.0251      0.016      1.532      0.137      -0.008       0.059\n",
            "x4             1.4247      0.381      3.735      0.001       0.643       2.206\n",
            "x5            -0.2201      0.122     -1.800      0.083      -0.471       0.030\n",
            "==============================================================================\n",
            "Omnibus:                       11.666   Durbin-Watson:                   0.898\n",
            "Prob(Omnibus):                  0.003   Jarque-Bera (JB):               11.754\n",
            "Skew:                           1.071   Prob(JB):                      0.00280\n",
            "Kurtosis:                       4.927   Cond. No.                     3.69e+03\n",
            "==============================================================================\n",
            "\n",
            "Notes:\n",
            "[1] Standard Errors assume that the covariance matrix of the errors is correctly specified.\n",
            "[2] The condition number is large, 3.69e+03. This might indicate that there are\n",
            "strong multicollinearity or other numerical problems.\n"
          ]
        }
      ],
      "source": [
        "# 5. Check for variable significance\n",
        "#----------------------------------\n",
        "# Fit an OLS model to check variable significance\n",
        "import statsmodels.api as sm\n",
        "\n",
        "# Add a constant (intercept) to the model\n",
        "X_with_const = sm.add_constant(X)\n",
        "ols_model = sm.OLS(y, X_with_const).fit()\n",
        "print(ols_model.summary())"
      ]
    },
    {
      "cell_type": "markdown",
      "metadata": {
        "id": "nRDAgsJBNqUw"
      },
      "source": [
        "*Replace insignificant variables if needed. Based on the OLS results, if we find insignificant variables, we can try alternatives. For example, we might replace them with interaction terms or transformations*"
      ]
    },
    {
      "cell_type": "code",
      "execution_count": 28,
      "metadata": {
        "colab": {
          "base_uri": "https://localhost:8080/",
          "height": 1000
        },
        "id": "b0suXrg3N5hA",
        "outputId": "516e501a-ebaf-4635-aa14-af7fda550874"
      },
      "outputs": [
        {
          "data": {
            "text/html": [
              "<div>\n",
              "<style scoped>\n",
              "    .dataframe tbody tr th:only-of-type {\n",
              "        vertical-align: middle;\n",
              "    }\n",
              "\n",
              "    .dataframe tbody tr th {\n",
              "        vertical-align: top;\n",
              "    }\n",
              "\n",
              "    .dataframe thead th {\n",
              "        text-align: right;\n",
              "    }\n",
              "</style>\n",
              "<table border=\"1\" class=\"dataframe\">\n",
              "  <thead>\n",
              "    <tr style=\"text-align: right;\">\n",
              "      <th></th>\n",
              "      <th>NEER_Oil_Interaction</th>\n",
              "    </tr>\n",
              "  </thead>\n",
              "  <tbody>\n",
              "    <tr>\n",
              "      <th>0</th>\n",
              "      <td>6539.658573</td>\n",
              "    </tr>\n",
              "    <tr>\n",
              "      <th>1</th>\n",
              "      <td>8214.588969</td>\n",
              "    </tr>\n",
              "    <tr>\n",
              "      <th>2</th>\n",
              "      <td>6531.974198</td>\n",
              "    </tr>\n",
              "    <tr>\n",
              "      <th>3</th>\n",
              "      <td>5991.620082</td>\n",
              "    </tr>\n",
              "    <tr>\n",
              "      <th>4</th>\n",
              "      <td>5088.119661</td>\n",
              "    </tr>\n",
              "    <tr>\n",
              "      <th>5</th>\n",
              "      <td>4511.859929</td>\n",
              "    </tr>\n",
              "    <tr>\n",
              "      <th>6</th>\n",
              "      <td>4471.948472</td>\n",
              "    </tr>\n",
              "    <tr>\n",
              "      <th>7</th>\n",
              "      <td>4913.426060</td>\n",
              "    </tr>\n",
              "    <tr>\n",
              "      <th>8</th>\n",
              "      <td>4234.663462</td>\n",
              "    </tr>\n",
              "    <tr>\n",
              "      <th>9</th>\n",
              "      <td>2763.739500</td>\n",
              "    </tr>\n",
              "    <tr>\n",
              "      <th>10</th>\n",
              "      <td>3488.252250</td>\n",
              "    </tr>\n",
              "    <tr>\n",
              "      <th>11</th>\n",
              "      <td>5316.767970</td>\n",
              "    </tr>\n",
              "    <tr>\n",
              "      <th>12</th>\n",
              "      <td>4132.304551</td>\n",
              "    </tr>\n",
              "    <tr>\n",
              "      <th>13</th>\n",
              "      <td>4302.245777</td>\n",
              "    </tr>\n",
              "    <tr>\n",
              "      <th>14</th>\n",
              "      <td>6007.201241</td>\n",
              "    </tr>\n",
              "    <tr>\n",
              "      <th>15</th>\n",
              "      <td>8289.964780</td>\n",
              "    </tr>\n",
              "    <tr>\n",
              "      <th>16</th>\n",
              "      <td>9761.622569</td>\n",
              "    </tr>\n",
              "    <tr>\n",
              "      <th>17</th>\n",
              "      <td>10297.342190</td>\n",
              "    </tr>\n",
              "    <tr>\n",
              "      <th>18</th>\n",
              "      <td>11622.719349</td>\n",
              "    </tr>\n",
              "    <tr>\n",
              "      <th>19</th>\n",
              "      <td>6556.038447</td>\n",
              "    </tr>\n",
              "    <tr>\n",
              "      <th>20</th>\n",
              "      <td>7964.000000</td>\n",
              "    </tr>\n",
              "    <tr>\n",
              "      <th>21</th>\n",
              "      <td>10582.166980</td>\n",
              "    </tr>\n",
              "    <tr>\n",
              "      <th>22</th>\n",
              "      <td>10167.765434</td>\n",
              "    </tr>\n",
              "    <tr>\n",
              "      <th>23</th>\n",
              "      <td>9179.650546</td>\n",
              "    </tr>\n",
              "    <tr>\n",
              "      <th>24</th>\n",
              "      <td>8506.667127</td>\n",
              "    </tr>\n",
              "    <tr>\n",
              "      <th>25</th>\n",
              "      <td>4799.347448</td>\n",
              "    </tr>\n",
              "    <tr>\n",
              "      <th>26</th>\n",
              "      <td>4085.097502</td>\n",
              "    </tr>\n",
              "    <tr>\n",
              "      <th>27</th>\n",
              "      <td>5024.648622</td>\n",
              "    </tr>\n",
              "    <tr>\n",
              "      <th>28</th>\n",
              "      <td>5638.504872</td>\n",
              "    </tr>\n",
              "    <tr>\n",
              "      <th>29</th>\n",
              "      <td>4270.440229</td>\n",
              "    </tr>\n",
              "    <tr>\n",
              "      <th>30</th>\n",
              "      <td>2624.845052</td>\n",
              "    </tr>\n",
              "    <tr>\n",
              "      <th>31</th>\n",
              "      <td>4214.972941</td>\n",
              "    </tr>\n",
              "    <tr>\n",
              "      <th>32</th>\n",
              "      <td>5140.169596</td>\n",
              "    </tr>\n",
              "    <tr>\n",
              "      <th>33</th>\n",
              "      <td>3101.209172</td>\n",
              "    </tr>\n",
              "  </tbody>\n",
              "</table>\n",
              "</div><br><label><b>dtype:</b> float64</label>"
            ],
            "text/plain": [
              "0      6539.658573\n",
              "1      8214.588969\n",
              "2      6531.974198\n",
              "3      5991.620082\n",
              "4      5088.119661\n",
              "5      4511.859929\n",
              "6      4471.948472\n",
              "7      4913.426060\n",
              "8      4234.663462\n",
              "9      2763.739500\n",
              "10     3488.252250\n",
              "11     5316.767970\n",
              "12     4132.304551\n",
              "13     4302.245777\n",
              "14     6007.201241\n",
              "15     8289.964780\n",
              "16     9761.622569\n",
              "17    10297.342190\n",
              "18    11622.719349\n",
              "19     6556.038447\n",
              "20     7964.000000\n",
              "21    10582.166980\n",
              "22    10167.765434\n",
              "23     9179.650546\n",
              "24     8506.667127\n",
              "25     4799.347448\n",
              "26     4085.097502\n",
              "27     5024.648622\n",
              "28     5638.504872\n",
              "29     4270.440229\n",
              "30     2624.845052\n",
              "31     4214.972941\n",
              "32     5140.169596\n",
              "33     3101.209172\n",
              "Name: NEER_Oil_Interaction, dtype: float64"
            ]
          },
          "execution_count": 28,
          "metadata": {},
          "output_type": "execute_result"
        }
      ],
      "source": [
        "# Let's create an interaction term between NEER and Crude_Oil_Brent\n",
        "data_clean['NEER_Oil_Interaction'] = data_clean['NEER'] * data_clean['Crude_Oil_Brent']\n",
        "data_clean['NEER_Oil_Interaction']"
      ]
    },
    {
      "cell_type": "code",
      "execution_count": 29,
      "metadata": {
        "colab": {
          "base_uri": "https://localhost:8080/",
          "height": 1000
        },
        "id": "DGpmLqTqN73B",
        "outputId": "9bfe2a81-42ca-4f64-efc7-8824cff9bfad"
      },
      "outputs": [
        {
          "data": {
            "text/html": [
              "<div>\n",
              "<style scoped>\n",
              "    .dataframe tbody tr th:only-of-type {\n",
              "        vertical-align: middle;\n",
              "    }\n",
              "\n",
              "    .dataframe tbody tr th {\n",
              "        vertical-align: top;\n",
              "    }\n",
              "\n",
              "    .dataframe thead th {\n",
              "        text-align: right;\n",
              "    }\n",
              "</style>\n",
              "<table border=\"1\" class=\"dataframe\">\n",
              "  <thead>\n",
              "    <tr style=\"text-align: right;\">\n",
              "      <th></th>\n",
              "      <th>Lag_Inflation</th>\n",
              "    </tr>\n",
              "  </thead>\n",
              "  <tbody>\n",
              "    <tr>\n",
              "      <th>0</th>\n",
              "      <td>NaN</td>\n",
              "    </tr>\n",
              "    <tr>\n",
              "      <th>1</th>\n",
              "      <td>7.844265</td>\n",
              "    </tr>\n",
              "    <tr>\n",
              "      <th>2</th>\n",
              "      <td>9.052132</td>\n",
              "    </tr>\n",
              "    <tr>\n",
              "      <th>3</th>\n",
              "      <td>11.791270</td>\n",
              "    </tr>\n",
              "    <tr>\n",
              "      <th>4</th>\n",
              "      <td>9.509041</td>\n",
              "    </tr>\n",
              "    <tr>\n",
              "      <th>5</th>\n",
              "      <td>9.973665</td>\n",
              "    </tr>\n",
              "    <tr>\n",
              "      <th>6</th>\n",
              "      <td>12.368194</td>\n",
              "    </tr>\n",
              "    <tr>\n",
              "      <th>7</th>\n",
              "      <td>12.343579</td>\n",
              "    </tr>\n",
              "    <tr>\n",
              "      <th>8</th>\n",
              "      <td>10.373809</td>\n",
              "    </tr>\n",
              "    <tr>\n",
              "      <th>9</th>\n",
              "      <td>11.375493</td>\n",
              "    </tr>\n",
              "    <tr>\n",
              "      <th>10</th>\n",
              "      <td>6.228004</td>\n",
              "    </tr>\n",
              "    <tr>\n",
              "      <th>11</th>\n",
              "      <td>4.142637</td>\n",
              "    </tr>\n",
              "    <tr>\n",
              "      <th>12</th>\n",
              "      <td>4.366665</td>\n",
              "    </tr>\n",
              "    <tr>\n",
              "      <th>13</th>\n",
              "      <td>3.148261</td>\n",
              "    </tr>\n",
              "    <tr>\n",
              "      <th>14</th>\n",
              "      <td>3.290345</td>\n",
              "    </tr>\n",
              "    <tr>\n",
              "      <th>15</th>\n",
              "      <td>7.444625</td>\n",
              "    </tr>\n",
              "    <tr>\n",
              "      <th>16</th>\n",
              "      <td>9.063327</td>\n",
              "    </tr>\n",
              "    <tr>\n",
              "      <th>17</th>\n",
              "      <td>7.921084</td>\n",
              "    </tr>\n",
              "    <tr>\n",
              "      <th>18</th>\n",
              "      <td>7.598684</td>\n",
              "    </tr>\n",
              "    <tr>\n",
              "      <th>19</th>\n",
              "      <td>20.286121</td>\n",
              "    </tr>\n",
              "    <tr>\n",
              "      <th>20</th>\n",
              "      <td>13.647765</td>\n",
              "    </tr>\n",
              "    <tr>\n",
              "      <th>21</th>\n",
              "      <td>12.938871</td>\n",
              "    </tr>\n",
              "    <tr>\n",
              "      <th>22</th>\n",
              "      <td>11.916093</td>\n",
              "    </tr>\n",
              "    <tr>\n",
              "      <th>23</th>\n",
              "      <td>9.682352</td>\n",
              "    </tr>\n",
              "    <tr>\n",
              "      <th>24</th>\n",
              "      <td>7.692156</td>\n",
              "    </tr>\n",
              "    <tr>\n",
              "      <th>25</th>\n",
              "      <td>7.189384</td>\n",
              "    </tr>\n",
              "    <tr>\n",
              "      <th>26</th>\n",
              "      <td>2.529328</td>\n",
              "    </tr>\n",
              "    <tr>\n",
              "      <th>27</th>\n",
              "      <td>3.765119</td>\n",
              "    </tr>\n",
              "    <tr>\n",
              "      <th>28</th>\n",
              "      <td>4.085374</td>\n",
              "    </tr>\n",
              "    <tr>\n",
              "      <th>29</th>\n",
              "      <td>5.078057</td>\n",
              "    </tr>\n",
              "    <tr>\n",
              "      <th>30</th>\n",
              "      <td>10.578362</td>\n",
              "    </tr>\n",
              "    <tr>\n",
              "      <th>31</th>\n",
              "      <td>9.739993</td>\n",
              "    </tr>\n",
              "    <tr>\n",
              "      <th>32</th>\n",
              "      <td>9.496211</td>\n",
              "    </tr>\n",
              "    <tr>\n",
              "      <th>33</th>\n",
              "      <td>19.873860</td>\n",
              "    </tr>\n",
              "  </tbody>\n",
              "</table>\n",
              "</div><br><label><b>dtype:</b> float64</label>"
            ],
            "text/plain": [
              "0           NaN\n",
              "1      7.844265\n",
              "2      9.052132\n",
              "3     11.791270\n",
              "4      9.509041\n",
              "5      9.973665\n",
              "6     12.368194\n",
              "7     12.343579\n",
              "8     10.373809\n",
              "9     11.375493\n",
              "10     6.228004\n",
              "11     4.142637\n",
              "12     4.366665\n",
              "13     3.148261\n",
              "14     3.290345\n",
              "15     7.444625\n",
              "16     9.063327\n",
              "17     7.921084\n",
              "18     7.598684\n",
              "19    20.286121\n",
              "20    13.647765\n",
              "21    12.938871\n",
              "22    11.916093\n",
              "23     9.682352\n",
              "24     7.692156\n",
              "25     7.189384\n",
              "26     2.529328\n",
              "27     3.765119\n",
              "28     4.085374\n",
              "29     5.078057\n",
              "30    10.578362\n",
              "31     9.739993\n",
              "32     9.496211\n",
              "33    19.873860\n",
              "Name: Lag_Inflation, dtype: float64"
            ]
          },
          "execution_count": 29,
          "metadata": {},
          "output_type": "execute_result"
        }
      ],
      "source": [
        "# Create a lag of inflation (previous year's inflation)\n",
        "data_clean['Lag_Inflation'] = data_clean['Inflation'].shift(1)\n",
        "data_clean['Lag_Inflation']"
      ]
    },
    {
      "cell_type": "code",
      "execution_count": null,
      "metadata": {
        "colab": {
          "base_uri": "https://localhost:8080/",
          "height": 1000
        },
        "id": "cyDrGZktONeg",
        "outputId": "13888e55-27fa-4da7-d6f5-929fd8368c12"
      },
      "outputs": [
        {
          "data": {
            "text/html": [
              "<div>\n",
              "<style scoped>\n",
              "    .dataframe tbody tr th:only-of-type {\n",
              "        vertical-align: middle;\n",
              "    }\n",
              "\n",
              "    .dataframe tbody tr th {\n",
              "        vertical-align: top;\n",
              "    }\n",
              "\n",
              "    .dataframe thead th {\n",
              "        text-align: right;\n",
              "    }\n",
              "</style>\n",
              "<table border=\"1\" class=\"dataframe\">\n",
              "  <thead>\n",
              "    <tr style=\"text-align: right;\">\n",
              "      <th></th>\n",
              "      <th>NEER_Squared</th>\n",
              "    </tr>\n",
              "  </thead>\n",
              "  <tbody>\n",
              "    <tr>\n",
              "      <th>0</th>\n",
              "      <td>128828.931448</td>\n",
              "    </tr>\n",
              "    <tr>\n",
              "      <th>1</th>\n",
              "      <td>120339.521194</td>\n",
              "    </tr>\n",
              "    <tr>\n",
              "      <th>2</th>\n",
              "      <td>105923.952078</td>\n",
              "    </tr>\n",
              "    <tr>\n",
              "      <th>3</th>\n",
              "      <td>96277.318950</td>\n",
              "    </tr>\n",
              "    <tr>\n",
              "      <th>4</th>\n",
              "      <td>89370.774433</td>\n",
              "    </tr>\n",
              "    <tr>\n",
              "      <th>5</th>\n",
              "      <td>81236.160185</td>\n",
              "    </tr>\n",
              "    <tr>\n",
              "      <th>6</th>\n",
              "      <td>68631.981748</td>\n",
              "    </tr>\n",
              "    <tr>\n",
              "      <th>7</th>\n",
              "      <td>56614.638414</td>\n",
              "    </tr>\n",
              "    <tr>\n",
              "      <th>8</th>\n",
              "      <td>49206.893308</td>\n",
              "    </tr>\n",
              "    <tr>\n",
              "      <th>9</th>\n",
              "      <td>47208.476858</td>\n",
              "    </tr>\n",
              "    <tr>\n",
              "      <th>10</th>\n",
              "      <td>38360.823992</td>\n",
              "    </tr>\n",
              "    <tr>\n",
              "      <th>11</th>\n",
              "      <td>35370.711686</td>\n",
              "    </tr>\n",
              "    <tr>\n",
              "      <th>12</th>\n",
              "      <td>28634.745265</td>\n",
              "    </tr>\n",
              "    <tr>\n",
              "      <th>13</th>\n",
              "      <td>29686.113892</td>\n",
              "    </tr>\n",
              "    <tr>\n",
              "      <th>14</th>\n",
              "      <td>24600.663136</td>\n",
              "    </tr>\n",
              "    <tr>\n",
              "      <th>15</th>\n",
              "      <td>23196.833342</td>\n",
              "    </tr>\n",
              "    <tr>\n",
              "      <th>16</th>\n",
              "      <td>22285.446961</td>\n",
              "    </tr>\n",
              "    <tr>\n",
              "      <th>17</th>\n",
              "      <td>20062.334550</td>\n",
              "    </tr>\n",
              "    <tr>\n",
              "      <th>18</th>\n",
              "      <td>14169.677333</td>\n",
              "    </tr>\n",
              "    <tr>\n",
              "      <th>19</th>\n",
              "      <td>11232.156663</td>\n",
              "    </tr>\n",
              "    <tr>\n",
              "      <th>20</th>\n",
              "      <td>10000.000000</td>\n",
              "    </tr>\n",
              "    <tr>\n",
              "      <th>21</th>\n",
              "      <td>9098.564899</td>\n",
              "    </tr>\n",
              "    <tr>\n",
              "      <th>22</th>\n",
              "      <td>8246.082603</td>\n",
              "    </tr>\n",
              "    <tr>\n",
              "      <th>23</th>\n",
              "      <td>7110.753722</td>\n",
              "    </tr>\n",
              "    <tr>\n",
              "      <th>24</th>\n",
              "      <td>7392.223101</td>\n",
              "    </tr>\n",
              "    <tr>\n",
              "      <th>25</th>\n",
              "      <td>8398.451830</td>\n",
              "    </tr>\n",
              "    <tr>\n",
              "      <th>26</th>\n",
              "      <td>8600.288652</td>\n",
              "    </tr>\n",
              "    <tr>\n",
              "      <th>27</th>\n",
              "      <td>8534.405531</td>\n",
              "    </tr>\n",
              "    <tr>\n",
              "      <th>28</th>\n",
              "      <td>6294.413782</td>\n",
              "    </tr>\n",
              "    <tr>\n",
              "      <th>29</th>\n",
              "      <td>4448.138401</td>\n",
              "    </tr>\n",
              "    <tr>\n",
              "      <th>30</th>\n",
              "      <td>3850.584057</td>\n",
              "    </tr>\n",
              "    <tr>\n",
              "      <th>31</th>\n",
              "      <td>3580.559437</td>\n",
              "    </tr>\n",
              "    <tr>\n",
              "      <th>32</th>\n",
              "      <td>2651.671774</td>\n",
              "    </tr>\n",
              "    <tr>\n",
              "      <th>33</th>\n",
              "      <td>1479.709737</td>\n",
              "    </tr>\n",
              "  </tbody>\n",
              "</table>\n",
              "</div><br><label><b>dtype:</b> float64</label>"
            ],
            "text/plain": [
              "0     128828.931448\n",
              "1     120339.521194\n",
              "2     105923.952078\n",
              "3      96277.318950\n",
              "4      89370.774433\n",
              "5      81236.160185\n",
              "6      68631.981748\n",
              "7      56614.638414\n",
              "8      49206.893308\n",
              "9      47208.476858\n",
              "10     38360.823992\n",
              "11     35370.711686\n",
              "12     28634.745265\n",
              "13     29686.113892\n",
              "14     24600.663136\n",
              "15     23196.833342\n",
              "16     22285.446961\n",
              "17     20062.334550\n",
              "18     14169.677333\n",
              "19     11232.156663\n",
              "20     10000.000000\n",
              "21      9098.564899\n",
              "22      8246.082603\n",
              "23      7110.753722\n",
              "24      7392.223101\n",
              "25      8398.451830\n",
              "26      8600.288652\n",
              "27      8534.405531\n",
              "28      6294.413782\n",
              "29      4448.138401\n",
              "30      3850.584057\n",
              "31      3580.559437\n",
              "32      2651.671774\n",
              "33      1479.709737\n",
              "Name: NEER_Squared, dtype: float64"
            ]
          },
          "execution_count": 30,
          "metadata": {},
          "output_type": "execute_result"
        }
      ],
      "source": [
        "# Create a squared term for variables that might have non-linear relationships\n",
        "data_clean['NEER_Squared'] = data_clean['NEER'] ** 2\n",
        "data_clean['NEER_Squared']"
      ]
    },
    {
      "cell_type": "markdown",
      "metadata": {
        "id": "s7d2f3CmOQXw"
      },
      "source": [
        "*Re-prepare data with potentially more significant variables*"
      ]
    },
    {
      "cell_type": "code",
      "execution_count": 31,
      "metadata": {
        "colab": {
          "base_uri": "https://localhost:8080/",
          "height": 1000
        },
        "id": "M1fJmz6COix7",
        "outputId": "3f163321-c3ac-41b3-d2df-54fedb12d1da"
      },
      "outputs": [
        {
          "data": {
            "application/vnd.google.colaboratory.intrinsic+json": {
              "summary": "{\n  \"name\": \"data_clean_lag\",\n  \"rows\": 33,\n  \"fields\": [\n    {\n      \"column\": \"Country Name\",\n      \"properties\": {\n        \"dtype\": \"category\",\n        \"num_unique_values\": 1,\n        \"samples\": [\n          \"Pakistan\"\n        ],\n        \"semantic_type\": \"\",\n        \"description\": \"\"\n      }\n    },\n    {\n      \"column\": \"Country Code\",\n      \"properties\": {\n        \"dtype\": \"category\",\n        \"num_unique_values\": 1,\n        \"samples\": [\n          \"PAK\"\n        ],\n        \"semantic_type\": \"\",\n        \"description\": \"\"\n      }\n    },\n    {\n      \"column\": \"Time\",\n      \"properties\": {\n        \"dtype\": \"number\",\n        \"std\": 10,\n        \"min\": 1990,\n        \"max\": 2023,\n        \"num_unique_values\": 33,\n        \"samples\": [\n          2022\n        ],\n        \"semantic_type\": \"\",\n        \"description\": \"\"\n      }\n    },\n    {\n      \"column\": \"Inflation\",\n      \"properties\": {\n        \"dtype\": \"number\",\n        \"std\": 5.678411985326513,\n        \"min\": 2.529328173,\n        \"max\": 30.76812807,\n        \"num_unique_values\": 33,\n        \"samples\": [\n          19.87385996\n        ],\n        \"semantic_type\": \"\",\n        \"description\": \"\"\n      }\n    },\n    {\n      \"column\": \"Broad_Money_Growth\",\n      \"properties\": {\n        \"dtype\": \"number\",\n        \"std\": 6.932980318070015,\n        \"min\": 4.314225268,\n        \"max\": 42.90887402,\n        \"num_unique_values\": 33,\n        \"samples\": [\n          7.411518601\n        ],\n        \"semantic_type\": \"\",\n        \"description\": \"\"\n      }\n    },\n    {\n      \"column\": \"Crude_Oil_Brent\",\n      \"properties\": {\n        \"dtype\": \"number\",\n        \"std\": 32.51231084434624,\n        \"min\": 12.72,\n        \"max\": 111.97,\n        \"num_unique_values\": 33,\n        \"samples\": [\n          99.82\n        ],\n        \"semantic_type\": \"\",\n        \"description\": \"\"\n      }\n    },\n    {\n      \"column\": \"NEER\",\n      \"properties\": {\n        \"dtype\": \"number\",\n        \"std\": 88.25053078361204,\n        \"min\": 38.46699543,\n        \"max\": 346.899872,\n        \"num_unique_values\": 33,\n        \"samples\": [\n          51.49438585\n        ],\n        \"semantic_type\": \"\",\n        \"description\": \"\"\n      }\n    },\n    {\n      \"column\": \"Food_Imports_Pct\",\n      \"properties\": {\n        \"dtype\": \"number\",\n        \"std\": 2.755001986846208,\n        \"min\": 8.863541635,\n        \"max\": 20.28508511,\n        \"num_unique_values\": 33,\n        \"samples\": [\n          13.20919413\n        ],\n        \"semantic_type\": \"\",\n        \"description\": \"\"\n      }\n    },\n    {\n      \"column\": \"REER\",\n      \"properties\": {\n        \"dtype\": \"number\",\n        \"std\": 9.577090239476997,\n        \"min\": 96.48685949,\n        \"max\": 126.6376096,\n        \"num_unique_values\": 33,\n        \"samples\": [\n          101.345674\n        ],\n        \"semantic_type\": \"\",\n        \"description\": \"\"\n      }\n    },\n    {\n      \"column\": \"NEER_Oil_Interaction\",\n      \"properties\": {\n        \"dtype\": \"number\",\n        \"std\": 2495.9541852518846,\n        \"min\": 2624.845052196,\n        \"max\": 11622.719349032,\n        \"num_unique_values\": 33,\n        \"samples\": [\n          5140.1695955469995\n        ],\n        \"semantic_type\": \"\",\n        \"description\": \"\"\n      }\n    },\n    {\n      \"column\": \"Lag_Inflation\",\n      \"properties\": {\n        \"dtype\": \"number\",\n        \"std\": 4.236386883008408,\n        \"min\": 2.529328173,\n        \"max\": 20.28612109,\n        \"num_unique_values\": 33,\n        \"samples\": [\n          9.496210561\n        ],\n        \"semantic_type\": \"\",\n        \"description\": \"\"\n      }\n    },\n    {\n      \"column\": \"NEER_Squared\",\n      \"properties\": {\n        \"dtype\": \"number\",\n        \"std\": 33561.06891685603,\n        \"min\": 1479.7097374116406,\n        \"max\": 120339.5211936164,\n        \"num_unique_values\": 33,\n        \"samples\": [\n          2651.6717740686804\n        ],\n        \"semantic_type\": \"\",\n        \"description\": \"\"\n      }\n    }\n  ]\n}",
              "type": "dataframe",
              "variable_name": "data_clean_lag"
            },
            "text/html": [
              "\n",
              "  <div id=\"df-d8fa641e-1929-41b4-b533-dc2084580bb7\" class=\"colab-df-container\">\n",
              "    <div>\n",
              "<style scoped>\n",
              "    .dataframe tbody tr th:only-of-type {\n",
              "        vertical-align: middle;\n",
              "    }\n",
              "\n",
              "    .dataframe tbody tr th {\n",
              "        vertical-align: top;\n",
              "    }\n",
              "\n",
              "    .dataframe thead th {\n",
              "        text-align: right;\n",
              "    }\n",
              "</style>\n",
              "<table border=\"1\" class=\"dataframe\">\n",
              "  <thead>\n",
              "    <tr style=\"text-align: right;\">\n",
              "      <th></th>\n",
              "      <th>Country Name</th>\n",
              "      <th>Country Code</th>\n",
              "      <th>Time</th>\n",
              "      <th>Inflation</th>\n",
              "      <th>Broad_Money_Growth</th>\n",
              "      <th>Crude_Oil_Brent</th>\n",
              "      <th>NEER</th>\n",
              "      <th>Food_Imports_Pct</th>\n",
              "      <th>REER</th>\n",
              "      <th>NEER_Oil_Interaction</th>\n",
              "      <th>Lag_Inflation</th>\n",
              "      <th>NEER_Squared</th>\n",
              "    </tr>\n",
              "  </thead>\n",
              "  <tbody>\n",
              "    <tr>\n",
              "      <th>1</th>\n",
              "      <td>Pakistan</td>\n",
              "      <td>PAK</td>\n",
              "      <td>1990</td>\n",
              "      <td>9.052132</td>\n",
              "      <td>11.643671</td>\n",
              "      <td>23.68</td>\n",
              "      <td>346.899872</td>\n",
              "      <td>17.353785</td>\n",
              "      <td>126.637610</td>\n",
              "      <td>8214.588969</td>\n",
              "      <td>7.844265</td>\n",
              "      <td>120339.521194</td>\n",
              "    </tr>\n",
              "    <tr>\n",
              "      <th>2</th>\n",
              "      <td>Pakistan</td>\n",
              "      <td>PAK</td>\n",
              "      <td>1991</td>\n",
              "      <td>11.791270</td>\n",
              "      <td>18.944313</td>\n",
              "      <td>20.07</td>\n",
              "      <td>325.459601</td>\n",
              "      <td>12.157456</td>\n",
              "      <td>123.928902</td>\n",
              "      <td>6531.974198</td>\n",
              "      <td>9.052132</td>\n",
              "      <td>105923.952078</td>\n",
              "    </tr>\n",
              "    <tr>\n",
              "      <th>3</th>\n",
              "      <td>Pakistan</td>\n",
              "      <td>PAK</td>\n",
              "      <td>1992</td>\n",
              "      <td>9.509041</td>\n",
              "      <td>29.300563</td>\n",
              "      <td>19.31</td>\n",
              "      <td>310.285866</td>\n",
              "      <td>15.079397</td>\n",
              "      <td>121.644578</td>\n",
              "      <td>5991.620082</td>\n",
              "      <td>11.791270</td>\n",
              "      <td>96277.318950</td>\n",
              "    </tr>\n",
              "    <tr>\n",
              "      <th>4</th>\n",
              "      <td>Pakistan</td>\n",
              "      <td>PAK</td>\n",
              "      <td>1993</td>\n",
              "      <td>9.973665</td>\n",
              "      <td>18.133447</td>\n",
              "      <td>17.02</td>\n",
              "      <td>298.949451</td>\n",
              "      <td>14.218146</td>\n",
              "      <td>120.053142</td>\n",
              "      <td>5088.119661</td>\n",
              "      <td>9.509041</td>\n",
              "      <td>89370.774433</td>\n",
              "    </tr>\n",
              "    <tr>\n",
              "      <th>5</th>\n",
              "      <td>Pakistan</td>\n",
              "      <td>PAK</td>\n",
              "      <td>1994</td>\n",
              "      <td>12.368194</td>\n",
              "      <td>17.370602</td>\n",
              "      <td>15.83</td>\n",
              "      <td>285.019579</td>\n",
              "      <td>15.861192</td>\n",
              "      <td>119.223679</td>\n",
              "      <td>4511.859929</td>\n",
              "      <td>9.973665</td>\n",
              "      <td>81236.160185</td>\n",
              "    </tr>\n",
              "    <tr>\n",
              "      <th>6</th>\n",
              "      <td>Pakistan</td>\n",
              "      <td>PAK</td>\n",
              "      <td>1995</td>\n",
              "      <td>12.343579</td>\n",
              "      <td>13.809796</td>\n",
              "      <td>17.07</td>\n",
              "      <td>261.977063</td>\n",
              "      <td>17.504239</td>\n",
              "      <td>118.528660</td>\n",
              "      <td>4471.948472</td>\n",
              "      <td>12.368194</td>\n",
              "      <td>68631.981748</td>\n",
              "    </tr>\n",
              "    <tr>\n",
              "      <th>7</th>\n",
              "      <td>Pakistan</td>\n",
              "      <td>PAK</td>\n",
              "      <td>1996</td>\n",
              "      <td>10.373809</td>\n",
              "      <td>20.068561</td>\n",
              "      <td>20.65</td>\n",
              "      <td>237.938308</td>\n",
              "      <td>14.815687</td>\n",
              "      <td>115.306208</td>\n",
              "      <td>4913.426060</td>\n",
              "      <td>12.343579</td>\n",
              "      <td>56614.638414</td>\n",
              "    </tr>\n",
              "    <tr>\n",
              "      <th>8</th>\n",
              "      <td>Pakistan</td>\n",
              "      <td>PAK</td>\n",
              "      <td>1997</td>\n",
              "      <td>11.375493</td>\n",
              "      <td>19.911797</td>\n",
              "      <td>19.09</td>\n",
              "      <td>221.826268</td>\n",
              "      <td>18.574955</td>\n",
              "      <td>116.963791</td>\n",
              "      <td>4234.663462</td>\n",
              "      <td>10.373809</td>\n",
              "      <td>49206.893308</td>\n",
              "    </tr>\n",
              "    <tr>\n",
              "      <th>9</th>\n",
              "      <td>Pakistan</td>\n",
              "      <td>PAK</td>\n",
              "      <td>1998</td>\n",
              "      <td>6.228004</td>\n",
              "      <td>7.859379</td>\n",
              "      <td>12.72</td>\n",
              "      <td>217.275118</td>\n",
              "      <td>20.285085</td>\n",
              "      <td>118.746163</td>\n",
              "      <td>2763.739500</td>\n",
              "      <td>11.375493</td>\n",
              "      <td>47208.476858</td>\n",
              "    </tr>\n",
              "    <tr>\n",
              "      <th>10</th>\n",
              "      <td>Pakistan</td>\n",
              "      <td>PAK</td>\n",
              "      <td>1999</td>\n",
              "      <td>4.142637</td>\n",
              "      <td>4.314225</td>\n",
              "      <td>17.81</td>\n",
              "      <td>195.859194</td>\n",
              "      <td>16.366896</td>\n",
              "      <td>109.819996</td>\n",
              "      <td>3488.252250</td>\n",
              "      <td>6.228004</td>\n",
              "      <td>38360.823992</td>\n",
              "    </tr>\n",
              "    <tr>\n",
              "      <th>11</th>\n",
              "      <td>Pakistan</td>\n",
              "      <td>PAK</td>\n",
              "      <td>2000</td>\n",
              "      <td>4.366665</td>\n",
              "      <td>12.125158</td>\n",
              "      <td>28.27</td>\n",
              "      <td>188.071028</td>\n",
              "      <td>13.767282</td>\n",
              "      <td>107.907246</td>\n",
              "      <td>5316.767970</td>\n",
              "      <td>4.142637</td>\n",
              "      <td>35370.711686</td>\n",
              "    </tr>\n",
              "    <tr>\n",
              "      <th>12</th>\n",
              "      <td>Pakistan</td>\n",
              "      <td>PAK</td>\n",
              "      <td>2001</td>\n",
              "      <td>3.148261</td>\n",
              "      <td>14.430247</td>\n",
              "      <td>24.42</td>\n",
              "      <td>169.218041</td>\n",
              "      <td>12.208880</td>\n",
              "      <td>98.080628</td>\n",
              "      <td>4132.304551</td>\n",
              "      <td>4.366665</td>\n",
              "      <td>28634.745265</td>\n",
              "    </tr>\n",
              "    <tr>\n",
              "      <th>13</th>\n",
              "      <td>Pakistan</td>\n",
              "      <td>PAK</td>\n",
              "      <td>2002</td>\n",
              "      <td>3.290345</td>\n",
              "      <td>17.616448</td>\n",
              "      <td>24.97</td>\n",
              "      <td>172.296587</td>\n",
              "      <td>11.882372</td>\n",
              "      <td>101.626841</td>\n",
              "      <td>4302.245777</td>\n",
              "      <td>3.148261</td>\n",
              "      <td>29686.113892</td>\n",
              "    </tr>\n",
              "    <tr>\n",
              "      <th>14</th>\n",
              "      <td>Pakistan</td>\n",
              "      <td>PAK</td>\n",
              "      <td>2004</td>\n",
              "      <td>7.444625</td>\n",
              "      <td>18.895400</td>\n",
              "      <td>38.30</td>\n",
              "      <td>156.845985</td>\n",
              "      <td>10.001461</td>\n",
              "      <td>98.022546</td>\n",
              "      <td>6007.201241</td>\n",
              "      <td>3.290345</td>\n",
              "      <td>24600.663136</td>\n",
              "    </tr>\n",
              "    <tr>\n",
              "      <th>15</th>\n",
              "      <td>Pakistan</td>\n",
              "      <td>PAK</td>\n",
              "      <td>2005</td>\n",
              "      <td>9.063327</td>\n",
              "      <td>16.372874</td>\n",
              "      <td>54.43</td>\n",
              "      <td>152.305067</td>\n",
              "      <td>10.400913</td>\n",
              "      <td>100.976865</td>\n",
              "      <td>8289.964780</td>\n",
              "      <td>7.444625</td>\n",
              "      <td>23196.833342</td>\n",
              "    </tr>\n",
              "    <tr>\n",
              "      <th>16</th>\n",
              "      <td>Pakistan</td>\n",
              "      <td>PAK</td>\n",
              "      <td>2006</td>\n",
              "      <td>7.921084</td>\n",
              "      <td>42.908874</td>\n",
              "      <td>65.39</td>\n",
              "      <td>149.283110</td>\n",
              "      <td>10.259032</td>\n",
              "      <td>103.785669</td>\n",
              "      <td>9761.622569</td>\n",
              "      <td>9.063327</td>\n",
              "      <td>22285.446961</td>\n",
              "    </tr>\n",
              "    <tr>\n",
              "      <th>17</th>\n",
              "      <td>Pakistan</td>\n",
              "      <td>PAK</td>\n",
              "      <td>2007</td>\n",
              "      <td>7.598684</td>\n",
              "      <td>17.438355</td>\n",
              "      <td>72.70</td>\n",
              "      <td>141.641571</td>\n",
              "      <td>8.863542</td>\n",
              "      <td>102.327963</td>\n",
              "      <td>10297.342190</td>\n",
              "      <td>7.921084</td>\n",
              "      <td>20062.334550</td>\n",
              "    </tr>\n",
              "    <tr>\n",
              "      <th>18</th>\n",
              "      <td>Pakistan</td>\n",
              "      <td>PAK</td>\n",
              "      <td>2008</td>\n",
              "      <td>20.286121</td>\n",
              "      <td>6.524702</td>\n",
              "      <td>97.64</td>\n",
              "      <td>119.036454</td>\n",
              "      <td>11.850470</td>\n",
              "      <td>97.385399</td>\n",
              "      <td>11622.719349</td>\n",
              "      <td>7.598684</td>\n",
              "      <td>14169.677333</td>\n",
              "    </tr>\n",
              "    <tr>\n",
              "      <th>19</th>\n",
              "      <td>Pakistan</td>\n",
              "      <td>PAK</td>\n",
              "      <td>2009</td>\n",
              "      <td>13.647765</td>\n",
              "      <td>17.610057</td>\n",
              "      <td>61.86</td>\n",
              "      <td>105.981870</td>\n",
              "      <td>11.341678</td>\n",
              "      <td>96.486859</td>\n",
              "      <td>6556.038447</td>\n",
              "      <td>20.286121</td>\n",
              "      <td>11232.156663</td>\n",
              "    </tr>\n",
              "    <tr>\n",
              "      <th>20</th>\n",
              "      <td>Pakistan</td>\n",
              "      <td>PAK</td>\n",
              "      <td>2010</td>\n",
              "      <td>12.938871</td>\n",
              "      <td>14.565816</td>\n",
              "      <td>79.64</td>\n",
              "      <td>100.000000</td>\n",
              "      <td>13.044965</td>\n",
              "      <td>100.000000</td>\n",
              "      <td>7964.000000</td>\n",
              "      <td>13.647765</td>\n",
              "      <td>10000.000000</td>\n",
              "    </tr>\n",
              "    <tr>\n",
              "      <th>21</th>\n",
              "      <td>Pakistan</td>\n",
              "      <td>PAK</td>\n",
              "      <td>2011</td>\n",
              "      <td>11.916093</td>\n",
              "      <td>12.602622</td>\n",
              "      <td>110.94</td>\n",
              "      <td>95.386398</td>\n",
              "      <td>11.949710</td>\n",
              "      <td>102.422977</td>\n",
              "      <td>10582.166980</td>\n",
              "      <td>12.938871</td>\n",
              "      <td>9098.564899</td>\n",
              "    </tr>\n",
              "    <tr>\n",
              "      <th>22</th>\n",
              "      <td>Pakistan</td>\n",
              "      <td>PAK</td>\n",
              "      <td>2012</td>\n",
              "      <td>9.682352</td>\n",
              "      <td>17.395020</td>\n",
              "      <td>111.97</td>\n",
              "      <td>90.807943</td>\n",
              "      <td>11.059962</td>\n",
              "      <td>103.797428</td>\n",
              "      <td>10167.765434</td>\n",
              "      <td>11.916093</td>\n",
              "      <td>8246.082603</td>\n",
              "    </tr>\n",
              "    <tr>\n",
              "      <th>23</th>\n",
              "      <td>Pakistan</td>\n",
              "      <td>PAK</td>\n",
              "      <td>2013</td>\n",
              "      <td>7.692156</td>\n",
              "      <td>13.315648</td>\n",
              "      <td>108.86</td>\n",
              "      <td>84.325285</td>\n",
              "      <td>10.203745</td>\n",
              "      <td>100.882195</td>\n",
              "      <td>9179.650546</td>\n",
              "      <td>9.682352</td>\n",
              "      <td>7110.753722</td>\n",
              "    </tr>\n",
              "    <tr>\n",
              "      <th>24</th>\n",
              "      <td>Pakistan</td>\n",
              "      <td>PAK</td>\n",
              "      <td>2014</td>\n",
              "      <td>7.189384</td>\n",
              "      <td>11.543715</td>\n",
              "      <td>98.94</td>\n",
              "      <td>85.978038</td>\n",
              "      <td>11.728529</td>\n",
              "      <td>107.817061</td>\n",
              "      <td>8506.667127</td>\n",
              "      <td>7.692156</td>\n",
              "      <td>7392.223101</td>\n",
              "    </tr>\n",
              "    <tr>\n",
              "      <th>25</th>\n",
              "      <td>Pakistan</td>\n",
              "      <td>PAK</td>\n",
              "      <td>2015</td>\n",
              "      <td>2.529328</td>\n",
              "      <td>12.180980</td>\n",
              "      <td>52.37</td>\n",
              "      <td>91.643068</td>\n",
              "      <td>12.097523</td>\n",
              "      <td>116.008607</td>\n",
              "      <td>4799.347448</td>\n",
              "      <td>7.189384</td>\n",
              "      <td>8398.451830</td>\n",
              "    </tr>\n",
              "    <tr>\n",
              "      <th>26</th>\n",
              "      <td>Pakistan</td>\n",
              "      <td>PAK</td>\n",
              "      <td>2016</td>\n",
              "      <td>3.765119</td>\n",
              "      <td>13.616049</td>\n",
              "      <td>44.05</td>\n",
              "      <td>92.737741</td>\n",
              "      <td>12.508351</td>\n",
              "      <td>119.668377</td>\n",
              "      <td>4085.097502</td>\n",
              "      <td>2.529328</td>\n",
              "      <td>8600.288652</td>\n",
              "    </tr>\n",
              "    <tr>\n",
              "      <th>27</th>\n",
              "      <td>Pakistan</td>\n",
              "      <td>PAK</td>\n",
              "      <td>2017</td>\n",
              "      <td>4.085374</td>\n",
              "      <td>9.931321</td>\n",
              "      <td>54.39</td>\n",
              "      <td>92.381846</td>\n",
              "      <td>11.809930</td>\n",
              "      <td>121.633993</td>\n",
              "      <td>5024.648622</td>\n",
              "      <td>3.765119</td>\n",
              "      <td>8534.405531</td>\n",
              "    </tr>\n",
              "    <tr>\n",
              "      <th>28</th>\n",
              "      <td>Pakistan</td>\n",
              "      <td>PAK</td>\n",
              "      <td>2018</td>\n",
              "      <td>5.078057</td>\n",
              "      <td>9.834392</td>\n",
              "      <td>71.07</td>\n",
              "      <td>79.337342</td>\n",
              "      <td>10.037709</td>\n",
              "      <td>107.117378</td>\n",
              "      <td>5638.504872</td>\n",
              "      <td>4.085374</td>\n",
              "      <td>6294.413782</td>\n",
              "    </tr>\n",
              "    <tr>\n",
              "      <th>29</th>\n",
              "      <td>Pakistan</td>\n",
              "      <td>PAK</td>\n",
              "      <td>2019</td>\n",
              "      <td>10.578362</td>\n",
              "      <td>11.673030</td>\n",
              "      <td>64.03</td>\n",
              "      <td>66.694366</td>\n",
              "      <td>10.736186</td>\n",
              "      <td>97.266474</td>\n",
              "      <td>4270.440229</td>\n",
              "      <td>5.078057</td>\n",
              "      <td>4448.138401</td>\n",
              "    </tr>\n",
              "    <tr>\n",
              "      <th>30</th>\n",
              "      <td>Pakistan</td>\n",
              "      <td>PAK</td>\n",
              "      <td>2020</td>\n",
              "      <td>9.739993</td>\n",
              "      <td>15.632709</td>\n",
              "      <td>42.30</td>\n",
              "      <td>62.053075</td>\n",
              "      <td>14.993805</td>\n",
              "      <td>97.594929</td>\n",
              "      <td>2624.845052</td>\n",
              "      <td>10.578362</td>\n",
              "      <td>3850.584057</td>\n",
              "    </tr>\n",
              "    <tr>\n",
              "      <th>31</th>\n",
              "      <td>Pakistan</td>\n",
              "      <td>PAK</td>\n",
              "      <td>2021</td>\n",
              "      <td>9.496211</td>\n",
              "      <td>10.419358</td>\n",
              "      <td>70.44</td>\n",
              "      <td>59.837776</td>\n",
              "      <td>12.868499</td>\n",
              "      <td>100.280379</td>\n",
              "      <td>4214.972941</td>\n",
              "      <td>9.739993</td>\n",
              "      <td>3580.559437</td>\n",
              "    </tr>\n",
              "    <tr>\n",
              "      <th>32</th>\n",
              "      <td>Pakistan</td>\n",
              "      <td>PAK</td>\n",
              "      <td>2022</td>\n",
              "      <td>19.873860</td>\n",
              "      <td>7.411519</td>\n",
              "      <td>99.82</td>\n",
              "      <td>51.494386</td>\n",
              "      <td>13.209194</td>\n",
              "      <td>101.345674</td>\n",
              "      <td>5140.169596</td>\n",
              "      <td>9.496211</td>\n",
              "      <td>2651.671774</td>\n",
              "    </tr>\n",
              "    <tr>\n",
              "      <th>33</th>\n",
              "      <td>Pakistan</td>\n",
              "      <td>PAK</td>\n",
              "      <td>2023</td>\n",
              "      <td>30.768128</td>\n",
              "      <td>16.253063</td>\n",
              "      <td>80.62</td>\n",
              "      <td>38.466995</td>\n",
              "      <td>16.110728</td>\n",
              "      <td>100.563436</td>\n",
              "      <td>3101.209172</td>\n",
              "      <td>19.873860</td>\n",
              "      <td>1479.709737</td>\n",
              "    </tr>\n",
              "  </tbody>\n",
              "</table>\n",
              "</div>\n",
              "    <div class=\"colab-df-buttons\">\n",
              "\n",
              "  <div class=\"colab-df-container\">\n",
              "    <button class=\"colab-df-convert\" onclick=\"convertToInteractive('df-d8fa641e-1929-41b4-b533-dc2084580bb7')\"\n",
              "            title=\"Convert this dataframe to an interactive table.\"\n",
              "            style=\"display:none;\">\n",
              "\n",
              "  <svg xmlns=\"http://www.w3.org/2000/svg\" height=\"24px\" viewBox=\"0 -960 960 960\">\n",
              "    <path d=\"M120-120v-720h720v720H120Zm60-500h600v-160H180v160Zm220 220h160v-160H400v160Zm0 220h160v-160H400v160ZM180-400h160v-160H180v160Zm440 0h160v-160H620v160ZM180-180h160v-160H180v160Zm440 0h160v-160H620v160Z\"/>\n",
              "  </svg>\n",
              "    </button>\n",
              "\n",
              "  <style>\n",
              "    .colab-df-container {\n",
              "      display:flex;\n",
              "      gap: 12px;\n",
              "    }\n",
              "\n",
              "    .colab-df-convert {\n",
              "      background-color: #E8F0FE;\n",
              "      border: none;\n",
              "      border-radius: 50%;\n",
              "      cursor: pointer;\n",
              "      display: none;\n",
              "      fill: #1967D2;\n",
              "      height: 32px;\n",
              "      padding: 0 0 0 0;\n",
              "      width: 32px;\n",
              "    }\n",
              "\n",
              "    .colab-df-convert:hover {\n",
              "      background-color: #E2EBFA;\n",
              "      box-shadow: 0px 1px 2px rgba(60, 64, 67, 0.3), 0px 1px 3px 1px rgba(60, 64, 67, 0.15);\n",
              "      fill: #174EA6;\n",
              "    }\n",
              "\n",
              "    .colab-df-buttons div {\n",
              "      margin-bottom: 4px;\n",
              "    }\n",
              "\n",
              "    [theme=dark] .colab-df-convert {\n",
              "      background-color: #3B4455;\n",
              "      fill: #D2E3FC;\n",
              "    }\n",
              "\n",
              "    [theme=dark] .colab-df-convert:hover {\n",
              "      background-color: #434B5C;\n",
              "      box-shadow: 0px 1px 3px 1px rgba(0, 0, 0, 0.15);\n",
              "      filter: drop-shadow(0px 1px 2px rgba(0, 0, 0, 0.3));\n",
              "      fill: #FFFFFF;\n",
              "    }\n",
              "  </style>\n",
              "\n",
              "    <script>\n",
              "      const buttonEl =\n",
              "        document.querySelector('#df-d8fa641e-1929-41b4-b533-dc2084580bb7 button.colab-df-convert');\n",
              "      buttonEl.style.display =\n",
              "        google.colab.kernel.accessAllowed ? 'block' : 'none';\n",
              "\n",
              "      async function convertToInteractive(key) {\n",
              "        const element = document.querySelector('#df-d8fa641e-1929-41b4-b533-dc2084580bb7');\n",
              "        const dataTable =\n",
              "          await google.colab.kernel.invokeFunction('convertToInteractive',\n",
              "                                                    [key], {});\n",
              "        if (!dataTable) return;\n",
              "\n",
              "        const docLinkHtml = 'Like what you see? Visit the ' +\n",
              "          '<a target=\"_blank\" href=https://colab.research.google.com/notebooks/data_table.ipynb>data table notebook</a>'\n",
              "          + ' to learn more about interactive tables.';\n",
              "        element.innerHTML = '';\n",
              "        dataTable['output_type'] = 'display_data';\n",
              "        await google.colab.output.renderOutput(dataTable, element);\n",
              "        const docLink = document.createElement('div');\n",
              "        docLink.innerHTML = docLinkHtml;\n",
              "        element.appendChild(docLink);\n",
              "      }\n",
              "    </script>\n",
              "  </div>\n",
              "\n",
              "\n",
              "    <div id=\"df-356bdc69-c0bd-467c-aeb9-ec6543b21ba1\">\n",
              "      <button class=\"colab-df-quickchart\" onclick=\"quickchart('df-356bdc69-c0bd-467c-aeb9-ec6543b21ba1')\"\n",
              "                title=\"Suggest charts\"\n",
              "                style=\"display:none;\">\n",
              "\n",
              "<svg xmlns=\"http://www.w3.org/2000/svg\" height=\"24px\"viewBox=\"0 0 24 24\"\n",
              "     width=\"24px\">\n",
              "    <g>\n",
              "        <path d=\"M19 3H5c-1.1 0-2 .9-2 2v14c0 1.1.9 2 2 2h14c1.1 0 2-.9 2-2V5c0-1.1-.9-2-2-2zM9 17H7v-7h2v7zm4 0h-2V7h2v10zm4 0h-2v-4h2v4z\"/>\n",
              "    </g>\n",
              "</svg>\n",
              "      </button>\n",
              "\n",
              "<style>\n",
              "  .colab-df-quickchart {\n",
              "      --bg-color: #E8F0FE;\n",
              "      --fill-color: #1967D2;\n",
              "      --hover-bg-color: #E2EBFA;\n",
              "      --hover-fill-color: #174EA6;\n",
              "      --disabled-fill-color: #AAA;\n",
              "      --disabled-bg-color: #DDD;\n",
              "  }\n",
              "\n",
              "  [theme=dark] .colab-df-quickchart {\n",
              "      --bg-color: #3B4455;\n",
              "      --fill-color: #D2E3FC;\n",
              "      --hover-bg-color: #434B5C;\n",
              "      --hover-fill-color: #FFFFFF;\n",
              "      --disabled-bg-color: #3B4455;\n",
              "      --disabled-fill-color: #666;\n",
              "  }\n",
              "\n",
              "  .colab-df-quickchart {\n",
              "    background-color: var(--bg-color);\n",
              "    border: none;\n",
              "    border-radius: 50%;\n",
              "    cursor: pointer;\n",
              "    display: none;\n",
              "    fill: var(--fill-color);\n",
              "    height: 32px;\n",
              "    padding: 0;\n",
              "    width: 32px;\n",
              "  }\n",
              "\n",
              "  .colab-df-quickchart:hover {\n",
              "    background-color: var(--hover-bg-color);\n",
              "    box-shadow: 0 1px 2px rgba(60, 64, 67, 0.3), 0 1px 3px 1px rgba(60, 64, 67, 0.15);\n",
              "    fill: var(--button-hover-fill-color);\n",
              "  }\n",
              "\n",
              "  .colab-df-quickchart-complete:disabled,\n",
              "  .colab-df-quickchart-complete:disabled:hover {\n",
              "    background-color: var(--disabled-bg-color);\n",
              "    fill: var(--disabled-fill-color);\n",
              "    box-shadow: none;\n",
              "  }\n",
              "\n",
              "  .colab-df-spinner {\n",
              "    border: 2px solid var(--fill-color);\n",
              "    border-color: transparent;\n",
              "    border-bottom-color: var(--fill-color);\n",
              "    animation:\n",
              "      spin 1s steps(1) infinite;\n",
              "  }\n",
              "\n",
              "  @keyframes spin {\n",
              "    0% {\n",
              "      border-color: transparent;\n",
              "      border-bottom-color: var(--fill-color);\n",
              "      border-left-color: var(--fill-color);\n",
              "    }\n",
              "    20% {\n",
              "      border-color: transparent;\n",
              "      border-left-color: var(--fill-color);\n",
              "      border-top-color: var(--fill-color);\n",
              "    }\n",
              "    30% {\n",
              "      border-color: transparent;\n",
              "      border-left-color: var(--fill-color);\n",
              "      border-top-color: var(--fill-color);\n",
              "      border-right-color: var(--fill-color);\n",
              "    }\n",
              "    40% {\n",
              "      border-color: transparent;\n",
              "      border-right-color: var(--fill-color);\n",
              "      border-top-color: var(--fill-color);\n",
              "    }\n",
              "    60% {\n",
              "      border-color: transparent;\n",
              "      border-right-color: var(--fill-color);\n",
              "    }\n",
              "    80% {\n",
              "      border-color: transparent;\n",
              "      border-right-color: var(--fill-color);\n",
              "      border-bottom-color: var(--fill-color);\n",
              "    }\n",
              "    90% {\n",
              "      border-color: transparent;\n",
              "      border-bottom-color: var(--fill-color);\n",
              "    }\n",
              "  }\n",
              "</style>\n",
              "\n",
              "      <script>\n",
              "        async function quickchart(key) {\n",
              "          const quickchartButtonEl =\n",
              "            document.querySelector('#' + key + ' button');\n",
              "          quickchartButtonEl.disabled = true;  // To prevent multiple clicks.\n",
              "          quickchartButtonEl.classList.add('colab-df-spinner');\n",
              "          try {\n",
              "            const charts = await google.colab.kernel.invokeFunction(\n",
              "                'suggestCharts', [key], {});\n",
              "          } catch (error) {\n",
              "            console.error('Error during call to suggestCharts:', error);\n",
              "          }\n",
              "          quickchartButtonEl.classList.remove('colab-df-spinner');\n",
              "          quickchartButtonEl.classList.add('colab-df-quickchart-complete');\n",
              "        }\n",
              "        (() => {\n",
              "          let quickchartButtonEl =\n",
              "            document.querySelector('#df-356bdc69-c0bd-467c-aeb9-ec6543b21ba1 button');\n",
              "          quickchartButtonEl.style.display =\n",
              "            google.colab.kernel.accessAllowed ? 'block' : 'none';\n",
              "        })();\n",
              "      </script>\n",
              "    </div>\n",
              "\n",
              "  <div id=\"id_f015810e-7b00-4690-b8fe-9752c39cd927\">\n",
              "    <style>\n",
              "      .colab-df-generate {\n",
              "        background-color: #E8F0FE;\n",
              "        border: none;\n",
              "        border-radius: 50%;\n",
              "        cursor: pointer;\n",
              "        display: none;\n",
              "        fill: #1967D2;\n",
              "        height: 32px;\n",
              "        padding: 0 0 0 0;\n",
              "        width: 32px;\n",
              "      }\n",
              "\n",
              "      .colab-df-generate:hover {\n",
              "        background-color: #E2EBFA;\n",
              "        box-shadow: 0px 1px 2px rgba(60, 64, 67, 0.3), 0px 1px 3px 1px rgba(60, 64, 67, 0.15);\n",
              "        fill: #174EA6;\n",
              "      }\n",
              "\n",
              "      [theme=dark] .colab-df-generate {\n",
              "        background-color: #3B4455;\n",
              "        fill: #D2E3FC;\n",
              "      }\n",
              "\n",
              "      [theme=dark] .colab-df-generate:hover {\n",
              "        background-color: #434B5C;\n",
              "        box-shadow: 0px 1px 3px 1px rgba(0, 0, 0, 0.15);\n",
              "        filter: drop-shadow(0px 1px 2px rgba(0, 0, 0, 0.3));\n",
              "        fill: #FFFFFF;\n",
              "      }\n",
              "    </style>\n",
              "    <button class=\"colab-df-generate\" onclick=\"generateWithVariable('data_clean_lag')\"\n",
              "            title=\"Generate code using this dataframe.\"\n",
              "            style=\"display:none;\">\n",
              "\n",
              "  <svg xmlns=\"http://www.w3.org/2000/svg\" height=\"24px\"viewBox=\"0 0 24 24\"\n",
              "       width=\"24px\">\n",
              "    <path d=\"M7,19H8.4L18.45,9,17,7.55,7,17.6ZM5,21V16.75L18.45,3.32a2,2,0,0,1,2.83,0l1.4,1.43a1.91,1.91,0,0,1,.58,1.4,1.91,1.91,0,0,1-.58,1.4L9.25,21ZM18.45,9,17,7.55Zm-12,3A5.31,5.31,0,0,0,4.9,8.1,5.31,5.31,0,0,0,1,6.5,5.31,5.31,0,0,0,4.9,4.9,5.31,5.31,0,0,0,6.5,1,5.31,5.31,0,0,0,8.1,4.9,5.31,5.31,0,0,0,12,6.5,5.46,5.46,0,0,0,6.5,12Z\"/>\n",
              "  </svg>\n",
              "    </button>\n",
              "    <script>\n",
              "      (() => {\n",
              "      const buttonEl =\n",
              "        document.querySelector('#id_f015810e-7b00-4690-b8fe-9752c39cd927 button.colab-df-generate');\n",
              "      buttonEl.style.display =\n",
              "        google.colab.kernel.accessAllowed ? 'block' : 'none';\n",
              "\n",
              "      buttonEl.onclick = () => {\n",
              "        google.colab.notebook.generateWithVariable('data_clean_lag');\n",
              "      }\n",
              "      })();\n",
              "    </script>\n",
              "  </div>\n",
              "\n",
              "    </div>\n",
              "  </div>\n"
            ],
            "text/plain": [
              "   Country Name Country Code  Time  Inflation  Broad_Money_Growth  \\\n",
              "1      Pakistan          PAK  1990   9.052132           11.643671   \n",
              "2      Pakistan          PAK  1991  11.791270           18.944313   \n",
              "3      Pakistan          PAK  1992   9.509041           29.300563   \n",
              "4      Pakistan          PAK  1993   9.973665           18.133447   \n",
              "5      Pakistan          PAK  1994  12.368194           17.370602   \n",
              "6      Pakistan          PAK  1995  12.343579           13.809796   \n",
              "7      Pakistan          PAK  1996  10.373809           20.068561   \n",
              "8      Pakistan          PAK  1997  11.375493           19.911797   \n",
              "9      Pakistan          PAK  1998   6.228004            7.859379   \n",
              "10     Pakistan          PAK  1999   4.142637            4.314225   \n",
              "11     Pakistan          PAK  2000   4.366665           12.125158   \n",
              "12     Pakistan          PAK  2001   3.148261           14.430247   \n",
              "13     Pakistan          PAK  2002   3.290345           17.616448   \n",
              "14     Pakistan          PAK  2004   7.444625           18.895400   \n",
              "15     Pakistan          PAK  2005   9.063327           16.372874   \n",
              "16     Pakistan          PAK  2006   7.921084           42.908874   \n",
              "17     Pakistan          PAK  2007   7.598684           17.438355   \n",
              "18     Pakistan          PAK  2008  20.286121            6.524702   \n",
              "19     Pakistan          PAK  2009  13.647765           17.610057   \n",
              "20     Pakistan          PAK  2010  12.938871           14.565816   \n",
              "21     Pakistan          PAK  2011  11.916093           12.602622   \n",
              "22     Pakistan          PAK  2012   9.682352           17.395020   \n",
              "23     Pakistan          PAK  2013   7.692156           13.315648   \n",
              "24     Pakistan          PAK  2014   7.189384           11.543715   \n",
              "25     Pakistan          PAK  2015   2.529328           12.180980   \n",
              "26     Pakistan          PAK  2016   3.765119           13.616049   \n",
              "27     Pakistan          PAK  2017   4.085374            9.931321   \n",
              "28     Pakistan          PAK  2018   5.078057            9.834392   \n",
              "29     Pakistan          PAK  2019  10.578362           11.673030   \n",
              "30     Pakistan          PAK  2020   9.739993           15.632709   \n",
              "31     Pakistan          PAK  2021   9.496211           10.419358   \n",
              "32     Pakistan          PAK  2022  19.873860            7.411519   \n",
              "33     Pakistan          PAK  2023  30.768128           16.253063   \n",
              "\n",
              "    Crude_Oil_Brent        NEER  Food_Imports_Pct        REER  \\\n",
              "1             23.68  346.899872         17.353785  126.637610   \n",
              "2             20.07  325.459601         12.157456  123.928902   \n",
              "3             19.31  310.285866         15.079397  121.644578   \n",
              "4             17.02  298.949451         14.218146  120.053142   \n",
              "5             15.83  285.019579         15.861192  119.223679   \n",
              "6             17.07  261.977063         17.504239  118.528660   \n",
              "7             20.65  237.938308         14.815687  115.306208   \n",
              "8             19.09  221.826268         18.574955  116.963791   \n",
              "9             12.72  217.275118         20.285085  118.746163   \n",
              "10            17.81  195.859194         16.366896  109.819996   \n",
              "11            28.27  188.071028         13.767282  107.907246   \n",
              "12            24.42  169.218041         12.208880   98.080628   \n",
              "13            24.97  172.296587         11.882372  101.626841   \n",
              "14            38.30  156.845985         10.001461   98.022546   \n",
              "15            54.43  152.305067         10.400913  100.976865   \n",
              "16            65.39  149.283110         10.259032  103.785669   \n",
              "17            72.70  141.641571          8.863542  102.327963   \n",
              "18            97.64  119.036454         11.850470   97.385399   \n",
              "19            61.86  105.981870         11.341678   96.486859   \n",
              "20            79.64  100.000000         13.044965  100.000000   \n",
              "21           110.94   95.386398         11.949710  102.422977   \n",
              "22           111.97   90.807943         11.059962  103.797428   \n",
              "23           108.86   84.325285         10.203745  100.882195   \n",
              "24            98.94   85.978038         11.728529  107.817061   \n",
              "25            52.37   91.643068         12.097523  116.008607   \n",
              "26            44.05   92.737741         12.508351  119.668377   \n",
              "27            54.39   92.381846         11.809930  121.633993   \n",
              "28            71.07   79.337342         10.037709  107.117378   \n",
              "29            64.03   66.694366         10.736186   97.266474   \n",
              "30            42.30   62.053075         14.993805   97.594929   \n",
              "31            70.44   59.837776         12.868499  100.280379   \n",
              "32            99.82   51.494386         13.209194  101.345674   \n",
              "33            80.62   38.466995         16.110728  100.563436   \n",
              "\n",
              "    NEER_Oil_Interaction  Lag_Inflation   NEER_Squared  \n",
              "1            8214.588969       7.844265  120339.521194  \n",
              "2            6531.974198       9.052132  105923.952078  \n",
              "3            5991.620082      11.791270   96277.318950  \n",
              "4            5088.119661       9.509041   89370.774433  \n",
              "5            4511.859929       9.973665   81236.160185  \n",
              "6            4471.948472      12.368194   68631.981748  \n",
              "7            4913.426060      12.343579   56614.638414  \n",
              "8            4234.663462      10.373809   49206.893308  \n",
              "9            2763.739500      11.375493   47208.476858  \n",
              "10           3488.252250       6.228004   38360.823992  \n",
              "11           5316.767970       4.142637   35370.711686  \n",
              "12           4132.304551       4.366665   28634.745265  \n",
              "13           4302.245777       3.148261   29686.113892  \n",
              "14           6007.201241       3.290345   24600.663136  \n",
              "15           8289.964780       7.444625   23196.833342  \n",
              "16           9761.622569       9.063327   22285.446961  \n",
              "17          10297.342190       7.921084   20062.334550  \n",
              "18          11622.719349       7.598684   14169.677333  \n",
              "19           6556.038447      20.286121   11232.156663  \n",
              "20           7964.000000      13.647765   10000.000000  \n",
              "21          10582.166980      12.938871    9098.564899  \n",
              "22          10167.765434      11.916093    8246.082603  \n",
              "23           9179.650546       9.682352    7110.753722  \n",
              "24           8506.667127       7.692156    7392.223101  \n",
              "25           4799.347448       7.189384    8398.451830  \n",
              "26           4085.097502       2.529328    8600.288652  \n",
              "27           5024.648622       3.765119    8534.405531  \n",
              "28           5638.504872       4.085374    6294.413782  \n",
              "29           4270.440229       5.078057    4448.138401  \n",
              "30           2624.845052      10.578362    3850.584057  \n",
              "31           4214.972941       9.739993    3580.559437  \n",
              "32           5140.169596       9.496211    2651.671774  \n",
              "33           3101.209172      19.873860    1479.709737  "
            ]
          },
          "execution_count": 31,
          "metadata": {},
          "output_type": "execute_result"
        }
      ],
      "source": [
        "# Remove the first row which has NA for lag variable\n",
        "data_clean_lag = data_clean.dropna()\n",
        "data_clean_lag"
      ]
    },
    {
      "cell_type": "markdown",
      "metadata": {
        "id": "2rNfaiWFOoK5"
      },
      "source": [
        "*Setup improved data for regression models*"
      ]
    },
    {
      "cell_type": "code",
      "execution_count": 32,
      "metadata": {
        "id": "qmO3v4CtOm-Y"
      },
      "outputs": [],
      "source": [
        "X_improved = data_clean_lag[['Broad_Money_Growth', 'Crude_Oil_Brent', 'NEER', 'Food_Imports_Pct', 'REER',\n",
        "                            'NEER_Oil_Interaction', 'Lag_Inflation', 'NEER_Squared']].values\n",
        "y_improved = data_clean_lag['Inflation'].values\n",
        "\n",
        "# Split the improved data\n",
        "np.random.seed(42)\n",
        "X_train_improved, X_test_improved, y_train_improved, y_test_improved, train_indices_improved, test_indices_improved = train_test_split(\n",
        "    X_improved, y_improved, range(len(data_clean_lag)), test_size=0.3, random_state=42\n",
        ")\n",
        "\n",
        "# Time vector for plotting\n",
        "time_train_improved = data_clean_lag['Time'].iloc[train_indices_improved].values\n",
        "time_test_improved = data_clean_lag['Time'].iloc[test_indices_improved].values"
      ]
    },
    {
      "cell_type": "code",
      "execution_count": 33,
      "metadata": {
        "colab": {
          "base_uri": "https://localhost:8080/"
        },
        "id": "2rO8Jg_0O__A",
        "outputId": "6c05e04a-9ad3-4aca-bb05-2f67b52c933f"
      },
      "outputs": [
        {
          "name": "stdout",
          "output_type": "stream",
          "text": [
            "Improved Elastic Net Regression Coefficients:\n",
            "Broad_Money_Growth      0.000000\n",
            "Crude_Oil_Brent         0.131302\n",
            "NEER                   -0.000000\n",
            "Food_Imports_Pct        0.000000\n",
            "REER                   -0.109004\n",
            "NEER_Oil_Interaction   -0.001417\n",
            "Lag_Inflation           0.625561\n",
            "NEER_Squared            0.000105\n",
            "dtype: float64\n"
          ]
        }
      ],
      "source": [
        "# Run Elastic Net on improved variables (as an example)\n",
        "np.random.seed(42)\n",
        "param_grid_improved = {\n",
        "    'alpha': np.logspace(-3, 3, 20),\n",
        "    'l1_ratio': [best_l1_ratio]  # Use the previously found best l1_ratio\n",
        "}\n",
        "\n",
        "elastic_net_cv_improved = GridSearchCV(\n",
        "    ElasticNet(),\n",
        "    param_grid_improved,\n",
        "    cv=5,\n",
        "    scoring='neg_mean_squared_error'\n",
        ")\n",
        "elastic_net_cv_improved.fit(X_train_improved, y_train_improved)\n",
        "best_alpha_improved = elastic_net_cv_improved.best_params_['alpha']\n",
        "\n",
        "elastic_net_model_improved = ElasticNet(alpha=best_alpha_improved, l1_ratio=best_l1_ratio)\n",
        "elastic_net_model_improved.fit(X_train_improved, y_train_improved)\n",
        "print(\"Improved Elastic Net Regression Coefficients:\")\n",
        "var_names_improved = ['Broad_Money_Growth', 'Crude_Oil_Brent', 'NEER', 'Food_Imports_Pct', 'REER',\n",
        "                     'NEER_Oil_Interaction', 'Lag_Inflation', 'NEER_Squared']\n",
        "print(pd.Series(elastic_net_model_improved.coef_, index=var_names_improved))"
      ]
    },
    {
      "cell_type": "code",
      "execution_count": 34,
      "metadata": {
        "colab": {
          "base_uri": "https://localhost:8080/"
        },
        "id": "_PoRYTeIPC-3",
        "outputId": "e8e63e26-1ae8-4ec7-8d33-9bcb5e32ba9b"
      },
      "outputs": [
        {
          "name": "stdout",
          "output_type": "stream",
          "text": [
            "Improved Elastic Net Model MSE: 27.7173\n"
          ]
        }
      ],
      "source": [
        "elastic_net_predictions_improved = elastic_net_model_improved.predict(X_test_improved)\n",
        "elastic_net_mse_improved = mean_squared_error(y_test_improved, elastic_net_predictions_improved)\n",
        "print(f\"Improved Elastic Net Model MSE: {elastic_net_mse_improved:.4f}\")"
      ]
    },
    {
      "cell_type": "markdown",
      "metadata": {
        "id": "jVrnKTmdQlZZ"
      },
      "source": [
        "# Comparing Model Performance:"
      ]
    },
    {
      "cell_type": "code",
      "execution_count": 35,
      "metadata": {
        "colab": {
          "base_uri": "https://localhost:8080/"
        },
        "id": "gr0r_hDoQklY",
        "outputId": "2d611d88-37ac-4dd5-9702-eda55d3277f5"
      },
      "outputs": [
        {
          "name": "stdout",
          "output_type": "stream",
          "text": [
            "Model Performance Comparison (MSE):\n",
            "                  Model        MSE\n",
            "1                 Ridge  16.250371\n",
            "3           Elastic Net  19.979591\n",
            "2                 LASSO  20.095758\n",
            "4  Improved Elastic Net  27.717285\n",
            "0                 ARIMA  37.683618\n"
          ]
        }
      ],
      "source": [
        "# Gather MSE results\n",
        "model_names = [\"ARIMA\", \"Ridge\", \"LASSO\", \"Elastic Net\", \"Improved Elastic Net\"]\n",
        "mse_values = [arima_mse, ridge_mse, lasso_mse, elastic_net_mse, elastic_net_mse_improved]\n",
        "\n",
        "performance_df = pd.DataFrame({'Model': model_names, 'MSE': mse_values})\n",
        "performance_df = performance_df.sort_values('MSE')\n",
        "\n",
        "print(\"Model Performance Comparison (MSE):\")\n",
        "print(performance_df)"
      ]
    },
    {
      "cell_type": "code",
      "execution_count": 36,
      "metadata": {
        "colab": {
          "base_uri": "https://localhost:8080/",
          "height": 609
        },
        "id": "5u2nw7tIQ0YA",
        "outputId": "2fd5a7bf-6065-459d-8c9d-1874e1637825"
      },
      "outputs": [
        {
          "data": {
            "image/png": "[encoded data removed]",
            "text/plain": [
              "<Figure size 1000x600 with 1 Axes>"
            ]
          },
          "metadata": {},
          "output_type": "display_data"
        }
      ],
      "source": [
        "# Create a bar plot for MSE comparison\n",
        "plt.figure(figsize=(10, 6))\n",
        "sns.barplot(data=performance_df, x='MSE', y='Model', palette='viridis')\n",
        "plt.title('Model Performance Comparison')\n",
        "plt.suptitle('Lower MSE indicates better performance')\n",
        "plt.tight_layout()\n",
        "plt.show()"
      ]
    },
    {
      "cell_type": "markdown",
      "metadata": {
        "id": "CyD74L-UQ4iI"
      },
      "source": [
        "# **DATA VISUALIZATION OF ACTUAL & PREDICTED VALUES**"
      ]
    },
    {
      "cell_type": "code",
      "execution_count": 37,
      "metadata": {
        "colab": {
          "base_uri": "https://localhost:8080/",
          "height": 708
        },
        "id": "ZKy1h6X9Q4A5",
        "outputId": "d8a95ea0-629c-49bd-cf57-bb020e0847d9"
      },
      "outputs": [
        {
          "data": {
            "image/png": "[encoded data removed]",
            "text/plain": [
              "<Figure size 1200x700 with 1 Axes>"
            ]
          },
          "metadata": {},
          "output_type": "display_data"
        }
      ],
      "source": [
        "# Create dataframes for plotting (using original test set)\n",
        "results_df = pd.DataFrame({\n",
        "    'Time': time_test,\n",
        "    'Actual': y_test,\n",
        "    'ARIMA': arima_predictions,\n",
        "    'Ridge': ridge_predictions,\n",
        "    'LASSO': lasso_predictions,\n",
        "    'ElasticNet': elastic_net_predictions\n",
        "})\n",
        "\n",
        "# Create a long format for easier plotting\n",
        "results_long = pd.melt(results_df,\n",
        "                      id_vars=['Time'],\n",
        "                      value_vars=['Actual', 'ARIMA', 'Ridge', 'LASSO', 'ElasticNet'],\n",
        "                      var_name='Model',\n",
        "                      value_name='Inflation')\n",
        "\n",
        "# Plot actual vs predicted values\n",
        "plt.figure(figsize=(12, 7))\n",
        "sns.lineplot(data=results_long, x='Time', y='Inflation', hue='Model', style='Model', markers=True, linewidth=2)\n",
        "plt.title('Actual vs Predicted Inflation Values')\n",
        "plt.suptitle('Comparison across different regression models')\n",
        "plt.xlabel('Year')\n",
        "plt.ylabel('Inflation (%)')\n",
        "plt.legend(title='')\n",
        "plt.tight_layout()\n",
        "plt.show()"
      ]
    },
    {
      "cell_type": "code",
      "execution_count": 38,
      "metadata": {
        "colab": {
          "base_uri": "https://localhost:8080/",
          "height": 708
        },
        "id": "-sg6Xo36Rn2w",
        "outputId": "27bc38a5-9ca9-429d-8926-40338bccc2f5"
      },
      "outputs": [
        {
          "data": {
            "image/png": "[encoded data removed]",
            "text/plain": [
              "<Figure size 1200x700 with 1 Axes>"
            ]
          },
          "metadata": {},
          "output_type": "display_data"
        }
      ],
      "source": [
        "# Plot improved model (with the additional variables)\n",
        "results_improved_df = pd.DataFrame({\n",
        "    'Time': time_test_improved,\n",
        "    'Actual': y_test_improved,\n",
        "    'ElasticNet_Improved': elastic_net_predictions_improved\n",
        "})\n",
        "results_improved_long = pd.melt(results_improved_df,\n",
        "                               id_vars=['Time'],\n",
        "                               value_vars=['Actual', 'ElasticNet_Improved'],\n",
        "                               var_name='Model',\n",
        "                               value_name='Inflation')\n",
        "plt.figure(figsize=(12, 7))\n",
        "sns.lineplot(data=results_improved_long, x='Time', y='Inflation', hue='Model', style='Model', markers=True, linewidth=2)\n",
        "plt.title('Actual vs Predicted Inflation Values (Improved Model)')\n",
        "plt.suptitle('Elastic Net with additional significant variables')\n",
        "plt.xlabel('Year')\n",
        "plt.ylabel('Inflation (%)')\n",
        "plt.legend(title='')\n",
        "plt.tight_layout()\n",
        "plt.show()"
      ]
    },
    {
      "cell_type": "markdown",
      "metadata": {
        "id": "HyYC064mRvOJ"
      },
      "source": [
        "# Residual Analysis:"
      ]
    },
    {
      "cell_type": "code",
      "execution_count": 39,
      "metadata": {
        "colab": {
          "base_uri": "https://localhost:8080/",
          "height": 824
        },
        "id": "v1EaTr_7R29n",
        "outputId": "093af6e0-2135-429a-fdd0-52944cd1a794"
      },
      "outputs": [
        {
          "data": {
            "text/plain": [
              "<Figure size 1400x1000 with 0 Axes>"
            ]
          },
          "metadata": {},
          "output_type": "display_data"
        },
        {
          "data": {
            "image/png": "[encoded data removed]",
            "text/plain": [
              "<Figure size 800x800 with 4 Axes>"
            ]
          },
          "metadata": {},
          "output_type": "display_data"
        }
      ],
      "source": [
        "# Calculate residuals for each model\n",
        "residuals_df = pd.DataFrame({\n",
        "    'Time': time_test,\n",
        "    'ARIMA': y_test - arima_predictions,\n",
        "    'Ridge': y_test - ridge_predictions,\n",
        "    'LASSO': y_test - lasso_predictions,\n",
        "    'ElasticNet': y_test - elastic_net_predictions\n",
        "})\n",
        "# Convert to long format for plotting\n",
        "residuals_long = pd.melt(residuals_df,\n",
        "                        id_vars=['Time'],\n",
        "                        value_vars=['ARIMA', 'Ridge', 'LASSO', 'ElasticNet'],\n",
        "                        var_name='Model',\n",
        "                        value_name='Residual')\n",
        "\n",
        "# Plot residuals\n",
        "plt.figure(figsize=(14, 10))\n",
        "g = sns.FacetGrid(residuals_long, col='Model', col_wrap=2, height=4)\n",
        "g.map(plt.scatter, 'Time', 'Residual', s=50)\n",
        "g.map(plt.axhline, y=0, ls='--', color='gray')\n",
        "g.set_axis_labels('Year', 'Residual (Actual - Predicted)')\n",
        "g.fig.suptitle('Residual Analysis by Model', fontsize=16)\n",
        "plt.subplots_adjust(top=0.9)\n",
        "plt.tight_layout()\n",
        "plt.show()"
      ]
    },
    {
      "cell_type": "markdown",
      "metadata": {
        "id": "vYR0Vhh7SAj6"
      },
      "source": [
        "# Conclusion:"
      ]
    },
    {
      "cell_type": "code",
      "execution_count": 47,
      "metadata": {
        "colab": {
          "base_uri": "https://localhost:8080/"
        },
        "id": "xIEjwr-TSN4H",
        "outputId": "6de4fe8f-9fa2-46a1-b4f0-e430eb13a222"
      },
      "outputs": [
        {
          "name": "stdout",
          "output_type": "stream",
          "text": [
            "The best performing model is Ridge with an MSE of 16.2504\n",
            "\n"
          ]
        }
      ],
      "source": [
        "# Identify the best performing model based on MSE\n",
        "best_model = performance_df['Model'].iloc[0]\n",
        "best_mse = performance_df['MSE'].iloc[0]\n",
        "\n",
        "print(f\"The best performing model is {best_model} with an MSE of {best_mse:.4f}\\n\")"
      ]
    },
    {
      "cell_type": "code",
      "execution_count": 48,
      "metadata": {
        "colab": {
          "base_uri": "https://localhost:8080/"
        },
        "id": "HtShF5PBSRwh",
        "outputId": "4b5b293e-26f9-4d7d-f035-da37c0935ac8"
      },
      "outputs": [
        {
          "name": "stdout",
          "output_type": "stream",
          "text": [
            "Variable Importance Analysis:\n",
            "             Variable  Coefficient\n",
            "3    Food_Imports_Pct     0.136155\n",
            "1     Crude_Oil_Brent     0.077461\n",
            "4                REER    -0.024961\n",
            "2                NEER     0.011392\n",
            "0  Broad_Money_Growth     0.000937\n",
            "\n",
            "The most important variables for predicting inflation in Pakistan are:\n",
            "1. Food_Imports_Pct with a positive effect\n",
            "2. Crude_Oil_Brent with a positive effect\n",
            "3. REER with a negative effect\n"
          ]
        }
      ],
      "source": [
        "print(\"Variable Importance Analysis:\")\n",
        "# For Ridge/LASSO/Elastic Net, examine coefficient magnitudes\n",
        "if best_model in [\"Ridge\", \"LASSO\", \"Elastic Net\", \"Improved Elastic Net\"]:\n",
        "    if best_model == \"Ridge\":\n",
        "        best_coef = ridge_model.coef_\n",
        "        var_names = ['Broad_Money_Growth', 'Crude_Oil_Brent', 'NEER', 'Food_Imports_Pct', 'REER']\n",
        "    elif best_model == \"LASSO\":\n",
        "        best_coef = lasso_model.coef_\n",
        "        var_names = ['Broad_Money_Growth', 'Crude_Oil_Brent', 'NEER', 'Food_Imports_Pct', 'REER']\n",
        "    elif best_model == \"Elastic Net\":\n",
        "        best_coef = elastic_net_model.coef_\n",
        "        var_names = ['Broad_Money_Growth', 'Crude_Oil_Brent', 'NEER', 'Food_Imports_Pct', 'REER']\n",
        "    else:  # Improved Elastic Net\n",
        "        best_coef = elastic_net_model_improved.coef_\n",
        "        var_names = var_names_improved\n",
        "\n",
        "\n",
        "    coef_data = pd.DataFrame({# Extract coefficient values and names\n",
        "        'Variable': var_names,\n",
        "        'Coefficient': best_coef\n",
        "    })\n",
        "\n",
        "    coef_data['AbsCoef'] = coef_data['Coefficient'].abs()\n",
        "    coef_data = coef_data.sort_values('AbsCoef', ascending=False)# Sort by absolute coefficient value\n",
        "\n",
        "    print(coef_data[['Variable', 'Coefficient']])# Print coefficients\n",
        "\n",
        "    print(\"\\nThe most important variables for predicting inflation in Pakistan are:\")\n",
        "    for i in range(min(3, len(coef_data))):\n",
        "        if coef_data['Coefficient'].iloc[i] != 0:\n",
        "            direction = \"positive\" if coef_data['Coefficient'].iloc[i] > 0 else \"negative\"\n",
        "            print(f\"{i+1}. {coef_data['Variable'].iloc[i]} with a {direction} effect\")"
      ]
    },
    {
      "cell_type": "code",
      "execution_count": 49,
      "metadata": {
        "colab": {
          "base_uri": "https://localhost:8080/"
        },
        "id": "9llIeNWDMduv",
        "outputId": "e634c33a-d747-4ae3-fc2a-80d3eb0c91e8"
      },
      "outputs": [
        {
          "name": "stdout",
          "output_type": "stream",
          "text": [
            "\n",
            "Economic Implications:\n",
            "1. The analysis suggests that understanding the dynamics of inflation in Pakistan requires consideration of multiple economic factors.\n",
            "2. Both internal factors (like broad money growth) and external factors (like crude oil prices) influence inflation patterns.\n",
            "3. The importance of exchange rates (NEER/REER) highlights Pakistan's vulnerability to external economic conditions.\n",
            "4. The potential significance of lagged inflation suggests inflation inertia in the Pakistani economy.\n"
          ]
        }
      ],
      "source": [
        "print(\"\\nEconomic Implications:\")\n",
        "print(\"1. The analysis suggests that understanding the dynamics of inflation in Pakistan requires consideration of multiple economic factors.\")\n",
        "\n",
        "print(\"2. Both internal factors (like broad money growth) and external factors (like crude oil prices) influence inflation patterns.\")\n",
        "\n",
        "print(\"3. The importance of exchange rates (NEER/REER) highlights Pakistan's vulnerability to external economic conditions.\")\n",
        "\n",
        "print(\"4. The potential significance of lagged inflation suggests inflation inertia in the Pakistani economy.\")"
      ]
    }
  ],
  "metadata": {
    "colab": {
      "provenance": []
    },
    "kernelspec": {
      "display_name": "Python 3",
      "name": "python3"
    },
    "language_info": {
      "name": "python"
    }
  },
  "nbformat": 4,
  "nbformat_minor": 0
}
